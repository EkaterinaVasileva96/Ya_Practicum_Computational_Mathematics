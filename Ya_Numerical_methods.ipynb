{
 "cells": [
  {
   "cell_type": "markdown",
   "metadata": {},
   "source": [
    "# Определение стоимости автомобилей"
   ]
  },
  {
   "cell_type": "markdown",
   "metadata": {},
   "source": [
    "Сервис по продаже автомобилей с пробегом «Не бит, не крашен» разрабатывает приложение для привлечения новых клиентов. В нём можно быстро узнать рыночную стоимость своего автомобиля. В вашем распоряжении исторические данные: технические характеристики, комплектации и цены автомобилей. Вам нужно построить модель для определения стоимости. \n",
    "\n",
    "Заказчику важны:\n",
    "\n",
    "- качество предсказания;\n",
    "- скорость предсказания;\n",
    "- время обучения."
   ]
  },
  {
   "cell_type": "markdown",
   "metadata": {},
   "source": [
    "## Подготовка данных"
   ]
  },
  {
   "cell_type": "code",
   "execution_count": 1,
   "metadata": {},
   "outputs": [],
   "source": [
    "import time\n",
    "import pandas as pd\n",
    "import numpy as np\n",
    "import seaborn as sns\n",
    "import matplotlib.pyplot as plt\n",
    "from IPython.display import display\n",
    "import itertools\n",
    "import warnings\n",
    "warnings.filterwarnings('ignore')\n",
    "\n",
    "from sklearn.model_selection import train_test_split, GridSearchCV\n",
    "from sklearn.preprocessing import StandardScaler\n",
    "from sklearn.metrics import mean_squared_error\n",
    "\n",
    "from sklearn.dummy import DummyRegressor\n",
    "from sklearn.linear_model import LinearRegression, Ridge\n",
    "from lightgbm import LGBMRegressor\n",
    "from catboost import CatBoostRegressor"
   ]
  },
  {
   "cell_type": "code",
   "execution_count": 2,
   "metadata": {},
   "outputs": [],
   "source": [
    "data = pd.read_csv('/datasets/autos.csv')"
   ]
  },
  {
   "cell_type": "code",
   "execution_count": 3,
   "metadata": {},
   "outputs": [
    {
     "data": {
      "text/html": [
       "<div>\n",
       "<style scoped>\n",
       "    .dataframe tbody tr th:only-of-type {\n",
       "        vertical-align: middle;\n",
       "    }\n",
       "\n",
       "    .dataframe tbody tr th {\n",
       "        vertical-align: top;\n",
       "    }\n",
       "\n",
       "    .dataframe thead th {\n",
       "        text-align: right;\n",
       "    }\n",
       "</style>\n",
       "<table border=\"1\" class=\"dataframe\">\n",
       "  <thead>\n",
       "    <tr style=\"text-align: right;\">\n",
       "      <th></th>\n",
       "      <th>DateCrawled</th>\n",
       "      <th>Price</th>\n",
       "      <th>VehicleType</th>\n",
       "      <th>RegistrationYear</th>\n",
       "      <th>Gearbox</th>\n",
       "      <th>Power</th>\n",
       "      <th>Model</th>\n",
       "      <th>Kilometer</th>\n",
       "      <th>RegistrationMonth</th>\n",
       "      <th>FuelType</th>\n",
       "      <th>Brand</th>\n",
       "      <th>NotRepaired</th>\n",
       "      <th>DateCreated</th>\n",
       "      <th>NumberOfPictures</th>\n",
       "      <th>PostalCode</th>\n",
       "      <th>LastSeen</th>\n",
       "    </tr>\n",
       "  </thead>\n",
       "  <tbody>\n",
       "    <tr>\n",
       "      <th>0</th>\n",
       "      <td>2016-03-24 11:52:17</td>\n",
       "      <td>480</td>\n",
       "      <td>NaN</td>\n",
       "      <td>1993</td>\n",
       "      <td>manual</td>\n",
       "      <td>0</td>\n",
       "      <td>golf</td>\n",
       "      <td>150000</td>\n",
       "      <td>0</td>\n",
       "      <td>petrol</td>\n",
       "      <td>volkswagen</td>\n",
       "      <td>NaN</td>\n",
       "      <td>2016-03-24 00:00:00</td>\n",
       "      <td>0</td>\n",
       "      <td>70435</td>\n",
       "      <td>2016-04-07 03:16:57</td>\n",
       "    </tr>\n",
       "    <tr>\n",
       "      <th>1</th>\n",
       "      <td>2016-03-24 10:58:45</td>\n",
       "      <td>18300</td>\n",
       "      <td>coupe</td>\n",
       "      <td>2011</td>\n",
       "      <td>manual</td>\n",
       "      <td>190</td>\n",
       "      <td>NaN</td>\n",
       "      <td>125000</td>\n",
       "      <td>5</td>\n",
       "      <td>gasoline</td>\n",
       "      <td>audi</td>\n",
       "      <td>yes</td>\n",
       "      <td>2016-03-24 00:00:00</td>\n",
       "      <td>0</td>\n",
       "      <td>66954</td>\n",
       "      <td>2016-04-07 01:46:50</td>\n",
       "    </tr>\n",
       "    <tr>\n",
       "      <th>2</th>\n",
       "      <td>2016-03-14 12:52:21</td>\n",
       "      <td>9800</td>\n",
       "      <td>suv</td>\n",
       "      <td>2004</td>\n",
       "      <td>auto</td>\n",
       "      <td>163</td>\n",
       "      <td>grand</td>\n",
       "      <td>125000</td>\n",
       "      <td>8</td>\n",
       "      <td>gasoline</td>\n",
       "      <td>jeep</td>\n",
       "      <td>NaN</td>\n",
       "      <td>2016-03-14 00:00:00</td>\n",
       "      <td>0</td>\n",
       "      <td>90480</td>\n",
       "      <td>2016-04-05 12:47:46</td>\n",
       "    </tr>\n",
       "    <tr>\n",
       "      <th>3</th>\n",
       "      <td>2016-03-17 16:54:04</td>\n",
       "      <td>1500</td>\n",
       "      <td>small</td>\n",
       "      <td>2001</td>\n",
       "      <td>manual</td>\n",
       "      <td>75</td>\n",
       "      <td>golf</td>\n",
       "      <td>150000</td>\n",
       "      <td>6</td>\n",
       "      <td>petrol</td>\n",
       "      <td>volkswagen</td>\n",
       "      <td>no</td>\n",
       "      <td>2016-03-17 00:00:00</td>\n",
       "      <td>0</td>\n",
       "      <td>91074</td>\n",
       "      <td>2016-03-17 17:40:17</td>\n",
       "    </tr>\n",
       "    <tr>\n",
       "      <th>4</th>\n",
       "      <td>2016-03-31 17:25:20</td>\n",
       "      <td>3600</td>\n",
       "      <td>small</td>\n",
       "      <td>2008</td>\n",
       "      <td>manual</td>\n",
       "      <td>69</td>\n",
       "      <td>fabia</td>\n",
       "      <td>90000</td>\n",
       "      <td>7</td>\n",
       "      <td>gasoline</td>\n",
       "      <td>skoda</td>\n",
       "      <td>no</td>\n",
       "      <td>2016-03-31 00:00:00</td>\n",
       "      <td>0</td>\n",
       "      <td>60437</td>\n",
       "      <td>2016-04-06 10:17:21</td>\n",
       "    </tr>\n",
       "  </tbody>\n",
       "</table>\n",
       "</div>"
      ],
      "text/plain": [
       "           DateCrawled  Price VehicleType  RegistrationYear Gearbox  Power  \\\n",
       "0  2016-03-24 11:52:17    480         NaN              1993  manual      0   \n",
       "1  2016-03-24 10:58:45  18300       coupe              2011  manual    190   \n",
       "2  2016-03-14 12:52:21   9800         suv              2004    auto    163   \n",
       "3  2016-03-17 16:54:04   1500       small              2001  manual     75   \n",
       "4  2016-03-31 17:25:20   3600       small              2008  manual     69   \n",
       "\n",
       "   Model  Kilometer  RegistrationMonth  FuelType       Brand NotRepaired  \\\n",
       "0   golf     150000                  0    petrol  volkswagen         NaN   \n",
       "1    NaN     125000                  5  gasoline        audi         yes   \n",
       "2  grand     125000                  8  gasoline        jeep         NaN   \n",
       "3   golf     150000                  6    petrol  volkswagen          no   \n",
       "4  fabia      90000                  7  gasoline       skoda          no   \n",
       "\n",
       "           DateCreated  NumberOfPictures  PostalCode             LastSeen  \n",
       "0  2016-03-24 00:00:00                 0       70435  2016-04-07 03:16:57  \n",
       "1  2016-03-24 00:00:00                 0       66954  2016-04-07 01:46:50  \n",
       "2  2016-03-14 00:00:00                 0       90480  2016-04-05 12:47:46  \n",
       "3  2016-03-17 00:00:00                 0       91074  2016-03-17 17:40:17  \n",
       "4  2016-03-31 00:00:00                 0       60437  2016-04-06 10:17:21  "
      ]
     },
     "metadata": {},
     "output_type": "display_data"
    },
    {
     "name": "stdout",
     "output_type": "stream",
     "text": [
      "<class 'pandas.core.frame.DataFrame'>\n",
      "RangeIndex: 354369 entries, 0 to 354368\n",
      "Data columns (total 16 columns):\n",
      " #   Column             Non-Null Count   Dtype \n",
      "---  ------             --------------   ----- \n",
      " 0   DateCrawled        354369 non-null  object\n",
      " 1   Price              354369 non-null  int64 \n",
      " 2   VehicleType        316879 non-null  object\n",
      " 3   RegistrationYear   354369 non-null  int64 \n",
      " 4   Gearbox            334536 non-null  object\n",
      " 5   Power              354369 non-null  int64 \n",
      " 6   Model              334664 non-null  object\n",
      " 7   Kilometer          354369 non-null  int64 \n",
      " 8   RegistrationMonth  354369 non-null  int64 \n",
      " 9   FuelType           321474 non-null  object\n",
      " 10  Brand              354369 non-null  object\n",
      " 11  NotRepaired        283215 non-null  object\n",
      " 12  DateCreated        354369 non-null  object\n",
      " 13  NumberOfPictures   354369 non-null  int64 \n",
      " 14  PostalCode         354369 non-null  int64 \n",
      " 15  LastSeen           354369 non-null  object\n",
      "dtypes: int64(7), object(9)\n",
      "memory usage: 43.3+ MB\n"
     ]
    },
    {
     "data": {
      "text/plain": [
       "None"
      ]
     },
     "metadata": {},
     "output_type": "display_data"
    },
    {
     "data": {
      "text/html": [
       "<div>\n",
       "<style scoped>\n",
       "    .dataframe tbody tr th:only-of-type {\n",
       "        vertical-align: middle;\n",
       "    }\n",
       "\n",
       "    .dataframe tbody tr th {\n",
       "        vertical-align: top;\n",
       "    }\n",
       "\n",
       "    .dataframe thead th {\n",
       "        text-align: right;\n",
       "    }\n",
       "</style>\n",
       "<table border=\"1\" class=\"dataframe\">\n",
       "  <thead>\n",
       "    <tr style=\"text-align: right;\">\n",
       "      <th></th>\n",
       "      <th>Price</th>\n",
       "      <th>RegistrationYear</th>\n",
       "      <th>Power</th>\n",
       "      <th>Kilometer</th>\n",
       "      <th>RegistrationMonth</th>\n",
       "      <th>NumberOfPictures</th>\n",
       "      <th>PostalCode</th>\n",
       "    </tr>\n",
       "  </thead>\n",
       "  <tbody>\n",
       "    <tr>\n",
       "      <th>count</th>\n",
       "      <td>354369.000000</td>\n",
       "      <td>354369.000000</td>\n",
       "      <td>354369.000000</td>\n",
       "      <td>354369.000000</td>\n",
       "      <td>354369.000000</td>\n",
       "      <td>354369.0</td>\n",
       "      <td>354369.000000</td>\n",
       "    </tr>\n",
       "    <tr>\n",
       "      <th>mean</th>\n",
       "      <td>4416.656776</td>\n",
       "      <td>2004.234448</td>\n",
       "      <td>110.094337</td>\n",
       "      <td>128211.172535</td>\n",
       "      <td>5.714645</td>\n",
       "      <td>0.0</td>\n",
       "      <td>50508.689087</td>\n",
       "    </tr>\n",
       "    <tr>\n",
       "      <th>std</th>\n",
       "      <td>4514.158514</td>\n",
       "      <td>90.227958</td>\n",
       "      <td>189.850405</td>\n",
       "      <td>37905.341530</td>\n",
       "      <td>3.726421</td>\n",
       "      <td>0.0</td>\n",
       "      <td>25783.096248</td>\n",
       "    </tr>\n",
       "    <tr>\n",
       "      <th>min</th>\n",
       "      <td>0.000000</td>\n",
       "      <td>1000.000000</td>\n",
       "      <td>0.000000</td>\n",
       "      <td>5000.000000</td>\n",
       "      <td>0.000000</td>\n",
       "      <td>0.0</td>\n",
       "      <td>1067.000000</td>\n",
       "    </tr>\n",
       "    <tr>\n",
       "      <th>25%</th>\n",
       "      <td>1050.000000</td>\n",
       "      <td>1999.000000</td>\n",
       "      <td>69.000000</td>\n",
       "      <td>125000.000000</td>\n",
       "      <td>3.000000</td>\n",
       "      <td>0.0</td>\n",
       "      <td>30165.000000</td>\n",
       "    </tr>\n",
       "    <tr>\n",
       "      <th>50%</th>\n",
       "      <td>2700.000000</td>\n",
       "      <td>2003.000000</td>\n",
       "      <td>105.000000</td>\n",
       "      <td>150000.000000</td>\n",
       "      <td>6.000000</td>\n",
       "      <td>0.0</td>\n",
       "      <td>49413.000000</td>\n",
       "    </tr>\n",
       "    <tr>\n",
       "      <th>75%</th>\n",
       "      <td>6400.000000</td>\n",
       "      <td>2008.000000</td>\n",
       "      <td>143.000000</td>\n",
       "      <td>150000.000000</td>\n",
       "      <td>9.000000</td>\n",
       "      <td>0.0</td>\n",
       "      <td>71083.000000</td>\n",
       "    </tr>\n",
       "    <tr>\n",
       "      <th>max</th>\n",
       "      <td>20000.000000</td>\n",
       "      <td>9999.000000</td>\n",
       "      <td>20000.000000</td>\n",
       "      <td>150000.000000</td>\n",
       "      <td>12.000000</td>\n",
       "      <td>0.0</td>\n",
       "      <td>99998.000000</td>\n",
       "    </tr>\n",
       "  </tbody>\n",
       "</table>\n",
       "</div>"
      ],
      "text/plain": [
       "               Price  RegistrationYear          Power      Kilometer  \\\n",
       "count  354369.000000     354369.000000  354369.000000  354369.000000   \n",
       "mean     4416.656776       2004.234448     110.094337  128211.172535   \n",
       "std      4514.158514         90.227958     189.850405   37905.341530   \n",
       "min         0.000000       1000.000000       0.000000    5000.000000   \n",
       "25%      1050.000000       1999.000000      69.000000  125000.000000   \n",
       "50%      2700.000000       2003.000000     105.000000  150000.000000   \n",
       "75%      6400.000000       2008.000000     143.000000  150000.000000   \n",
       "max     20000.000000       9999.000000   20000.000000  150000.000000   \n",
       "\n",
       "       RegistrationMonth  NumberOfPictures     PostalCode  \n",
       "count      354369.000000          354369.0  354369.000000  \n",
       "mean            5.714645               0.0   50508.689087  \n",
       "std             3.726421               0.0   25783.096248  \n",
       "min             0.000000               0.0    1067.000000  \n",
       "25%             3.000000               0.0   30165.000000  \n",
       "50%             6.000000               0.0   49413.000000  \n",
       "75%             9.000000               0.0   71083.000000  \n",
       "max            12.000000               0.0   99998.000000  "
      ]
     },
     "metadata": {},
     "output_type": "display_data"
    }
   ],
   "source": [
    "display(data.head())\n",
    "display(data.info())\n",
    "display(data.describe())"
   ]
  },
  {
   "cell_type": "code",
   "execution_count": 4,
   "metadata": {},
   "outputs": [
    {
     "data": {
      "text/html": [
       "<div>\n",
       "<style scoped>\n",
       "    .dataframe tbody tr th:only-of-type {\n",
       "        vertical-align: middle;\n",
       "    }\n",
       "\n",
       "    .dataframe tbody tr th {\n",
       "        vertical-align: top;\n",
       "    }\n",
       "\n",
       "    .dataframe thead th {\n",
       "        text-align: right;\n",
       "    }\n",
       "</style>\n",
       "<table border=\"1\" class=\"dataframe\">\n",
       "  <thead>\n",
       "    <tr style=\"text-align: right;\">\n",
       "      <th></th>\n",
       "      <th>datecrawled</th>\n",
       "      <th>price</th>\n",
       "      <th>vehicletype</th>\n",
       "      <th>registrationyear</th>\n",
       "      <th>gearbox</th>\n",
       "      <th>power</th>\n",
       "      <th>model</th>\n",
       "      <th>kilometer</th>\n",
       "      <th>registrationmonth</th>\n",
       "      <th>fueltype</th>\n",
       "      <th>brand</th>\n",
       "      <th>notrepaired</th>\n",
       "      <th>datecreated</th>\n",
       "      <th>numberofpictures</th>\n",
       "      <th>postalcode</th>\n",
       "      <th>lastseen</th>\n",
       "    </tr>\n",
       "  </thead>\n",
       "  <tbody>\n",
       "    <tr>\n",
       "      <th>7</th>\n",
       "      <td>2016-03-21 18:54:38</td>\n",
       "      <td>0</td>\n",
       "      <td>sedan</td>\n",
       "      <td>1980</td>\n",
       "      <td>manual</td>\n",
       "      <td>50</td>\n",
       "      <td>other</td>\n",
       "      <td>40000</td>\n",
       "      <td>7</td>\n",
       "      <td>petrol</td>\n",
       "      <td>volkswagen</td>\n",
       "      <td>no</td>\n",
       "      <td>2016-03-21 00:00:00</td>\n",
       "      <td>0</td>\n",
       "      <td>19348</td>\n",
       "      <td>2016-03-25 16:47:58</td>\n",
       "    </tr>\n",
       "    <tr>\n",
       "      <th>40</th>\n",
       "      <td>2016-03-26 22:06:17</td>\n",
       "      <td>0</td>\n",
       "      <td>NaN</td>\n",
       "      <td>1990</td>\n",
       "      <td>NaN</td>\n",
       "      <td>0</td>\n",
       "      <td>corsa</td>\n",
       "      <td>150000</td>\n",
       "      <td>1</td>\n",
       "      <td>petrol</td>\n",
       "      <td>opel</td>\n",
       "      <td>NaN</td>\n",
       "      <td>2016-03-26 00:00:00</td>\n",
       "      <td>0</td>\n",
       "      <td>56412</td>\n",
       "      <td>2016-03-27 17:43:34</td>\n",
       "    </tr>\n",
       "    <tr>\n",
       "      <th>111</th>\n",
       "      <td>2016-03-19 18:40:12</td>\n",
       "      <td>0</td>\n",
       "      <td>NaN</td>\n",
       "      <td>2017</td>\n",
       "      <td>manual</td>\n",
       "      <td>0</td>\n",
       "      <td>golf</td>\n",
       "      <td>5000</td>\n",
       "      <td>12</td>\n",
       "      <td>petrol</td>\n",
       "      <td>volkswagen</td>\n",
       "      <td>NaN</td>\n",
       "      <td>2016-03-19 00:00:00</td>\n",
       "      <td>0</td>\n",
       "      <td>21698</td>\n",
       "      <td>2016-04-01 08:47:05</td>\n",
       "    </tr>\n",
       "    <tr>\n",
       "      <th>115</th>\n",
       "      <td>2016-03-20 18:53:27</td>\n",
       "      <td>0</td>\n",
       "      <td>small</td>\n",
       "      <td>1999</td>\n",
       "      <td>NaN</td>\n",
       "      <td>0</td>\n",
       "      <td>NaN</td>\n",
       "      <td>5000</td>\n",
       "      <td>0</td>\n",
       "      <td>petrol</td>\n",
       "      <td>volkswagen</td>\n",
       "      <td>NaN</td>\n",
       "      <td>2016-03-20 00:00:00</td>\n",
       "      <td>0</td>\n",
       "      <td>37520</td>\n",
       "      <td>2016-04-07 02:45:22</td>\n",
       "    </tr>\n",
       "    <tr>\n",
       "      <th>152</th>\n",
       "      <td>2016-03-11 18:55:53</td>\n",
       "      <td>0</td>\n",
       "      <td>bus</td>\n",
       "      <td>2004</td>\n",
       "      <td>manual</td>\n",
       "      <td>101</td>\n",
       "      <td>meriva</td>\n",
       "      <td>150000</td>\n",
       "      <td>10</td>\n",
       "      <td>lpg</td>\n",
       "      <td>opel</td>\n",
       "      <td>yes</td>\n",
       "      <td>2016-03-11 00:00:00</td>\n",
       "      <td>0</td>\n",
       "      <td>27432</td>\n",
       "      <td>2016-03-12 23:47:10</td>\n",
       "    </tr>\n",
       "    <tr>\n",
       "      <th>...</th>\n",
       "      <td>...</td>\n",
       "      <td>...</td>\n",
       "      <td>...</td>\n",
       "      <td>...</td>\n",
       "      <td>...</td>\n",
       "      <td>...</td>\n",
       "      <td>...</td>\n",
       "      <td>...</td>\n",
       "      <td>...</td>\n",
       "      <td>...</td>\n",
       "      <td>...</td>\n",
       "      <td>...</td>\n",
       "      <td>...</td>\n",
       "      <td>...</td>\n",
       "      <td>...</td>\n",
       "      <td>...</td>\n",
       "    </tr>\n",
       "    <tr>\n",
       "      <th>354205</th>\n",
       "      <td>2016-03-09 15:56:30</td>\n",
       "      <td>0</td>\n",
       "      <td>NaN</td>\n",
       "      <td>2000</td>\n",
       "      <td>manual</td>\n",
       "      <td>65</td>\n",
       "      <td>corsa</td>\n",
       "      <td>150000</td>\n",
       "      <td>0</td>\n",
       "      <td>NaN</td>\n",
       "      <td>opel</td>\n",
       "      <td>yes</td>\n",
       "      <td>2016-03-09 00:00:00</td>\n",
       "      <td>0</td>\n",
       "      <td>23758</td>\n",
       "      <td>2016-03-30 11:16:08</td>\n",
       "    </tr>\n",
       "    <tr>\n",
       "      <th>354238</th>\n",
       "      <td>2016-03-20 14:55:07</td>\n",
       "      <td>0</td>\n",
       "      <td>small</td>\n",
       "      <td>2002</td>\n",
       "      <td>manual</td>\n",
       "      <td>60</td>\n",
       "      <td>fiesta</td>\n",
       "      <td>150000</td>\n",
       "      <td>3</td>\n",
       "      <td>petrol</td>\n",
       "      <td>ford</td>\n",
       "      <td>NaN</td>\n",
       "      <td>2016-03-20 00:00:00</td>\n",
       "      <td>0</td>\n",
       "      <td>33659</td>\n",
       "      <td>2016-04-06 18:45:23</td>\n",
       "    </tr>\n",
       "    <tr>\n",
       "      <th>354248</th>\n",
       "      <td>2016-03-24 13:48:05</td>\n",
       "      <td>0</td>\n",
       "      <td>small</td>\n",
       "      <td>1999</td>\n",
       "      <td>manual</td>\n",
       "      <td>53</td>\n",
       "      <td>swift</td>\n",
       "      <td>150000</td>\n",
       "      <td>3</td>\n",
       "      <td>petrol</td>\n",
       "      <td>suzuki</td>\n",
       "      <td>NaN</td>\n",
       "      <td>2016-03-24 00:00:00</td>\n",
       "      <td>0</td>\n",
       "      <td>42329</td>\n",
       "      <td>2016-04-07 05:17:24</td>\n",
       "    </tr>\n",
       "    <tr>\n",
       "      <th>354277</th>\n",
       "      <td>2016-03-10 22:55:50</td>\n",
       "      <td>0</td>\n",
       "      <td>small</td>\n",
       "      <td>1999</td>\n",
       "      <td>manual</td>\n",
       "      <td>37</td>\n",
       "      <td>arosa</td>\n",
       "      <td>150000</td>\n",
       "      <td>7</td>\n",
       "      <td>petrol</td>\n",
       "      <td>seat</td>\n",
       "      <td>yes</td>\n",
       "      <td>2016-03-10 00:00:00</td>\n",
       "      <td>0</td>\n",
       "      <td>22559</td>\n",
       "      <td>2016-03-12 23:46:32</td>\n",
       "    </tr>\n",
       "    <tr>\n",
       "      <th>354364</th>\n",
       "      <td>2016-03-21 09:50:58</td>\n",
       "      <td>0</td>\n",
       "      <td>NaN</td>\n",
       "      <td>2005</td>\n",
       "      <td>manual</td>\n",
       "      <td>0</td>\n",
       "      <td>colt</td>\n",
       "      <td>150000</td>\n",
       "      <td>7</td>\n",
       "      <td>petrol</td>\n",
       "      <td>mitsubishi</td>\n",
       "      <td>yes</td>\n",
       "      <td>2016-03-21 00:00:00</td>\n",
       "      <td>0</td>\n",
       "      <td>2694</td>\n",
       "      <td>2016-03-21 10:42:49</td>\n",
       "    </tr>\n",
       "  </tbody>\n",
       "</table>\n",
       "<p>10772 rows × 16 columns</p>\n",
       "</div>"
      ],
      "text/plain": [
       "                datecrawled  price vehicletype  registrationyear gearbox  \\\n",
       "7       2016-03-21 18:54:38      0       sedan              1980  manual   \n",
       "40      2016-03-26 22:06:17      0         NaN              1990     NaN   \n",
       "111     2016-03-19 18:40:12      0         NaN              2017  manual   \n",
       "115     2016-03-20 18:53:27      0       small              1999     NaN   \n",
       "152     2016-03-11 18:55:53      0         bus              2004  manual   \n",
       "...                     ...    ...         ...               ...     ...   \n",
       "354205  2016-03-09 15:56:30      0         NaN              2000  manual   \n",
       "354238  2016-03-20 14:55:07      0       small              2002  manual   \n",
       "354248  2016-03-24 13:48:05      0       small              1999  manual   \n",
       "354277  2016-03-10 22:55:50      0       small              1999  manual   \n",
       "354364  2016-03-21 09:50:58      0         NaN              2005  manual   \n",
       "\n",
       "        power   model  kilometer  registrationmonth fueltype       brand  \\\n",
       "7          50   other      40000                  7   petrol  volkswagen   \n",
       "40          0   corsa     150000                  1   petrol        opel   \n",
       "111         0    golf       5000                 12   petrol  volkswagen   \n",
       "115         0     NaN       5000                  0   petrol  volkswagen   \n",
       "152       101  meriva     150000                 10      lpg        opel   \n",
       "...       ...     ...        ...                ...      ...         ...   \n",
       "354205     65   corsa     150000                  0      NaN        opel   \n",
       "354238     60  fiesta     150000                  3   petrol        ford   \n",
       "354248     53   swift     150000                  3   petrol      suzuki   \n",
       "354277     37   arosa     150000                  7   petrol        seat   \n",
       "354364      0    colt     150000                  7   petrol  mitsubishi   \n",
       "\n",
       "       notrepaired          datecreated  numberofpictures  postalcode  \\\n",
       "7               no  2016-03-21 00:00:00                 0       19348   \n",
       "40             NaN  2016-03-26 00:00:00                 0       56412   \n",
       "111            NaN  2016-03-19 00:00:00                 0       21698   \n",
       "115            NaN  2016-03-20 00:00:00                 0       37520   \n",
       "152            yes  2016-03-11 00:00:00                 0       27432   \n",
       "...            ...                  ...               ...         ...   \n",
       "354205         yes  2016-03-09 00:00:00                 0       23758   \n",
       "354238         NaN  2016-03-20 00:00:00                 0       33659   \n",
       "354248         NaN  2016-03-24 00:00:00                 0       42329   \n",
       "354277         yes  2016-03-10 00:00:00                 0       22559   \n",
       "354364         yes  2016-03-21 00:00:00                 0        2694   \n",
       "\n",
       "                   lastseen  \n",
       "7       2016-03-25 16:47:58  \n",
       "40      2016-03-27 17:43:34  \n",
       "111     2016-04-01 08:47:05  \n",
       "115     2016-04-07 02:45:22  \n",
       "152     2016-03-12 23:47:10  \n",
       "...                     ...  \n",
       "354205  2016-03-30 11:16:08  \n",
       "354238  2016-04-06 18:45:23  \n",
       "354248  2016-04-07 05:17:24  \n",
       "354277  2016-03-12 23:46:32  \n",
       "354364  2016-03-21 10:42:49  \n",
       "\n",
       "[10772 rows x 16 columns]"
      ]
     },
     "execution_count": 4,
     "metadata": {},
     "output_type": "execute_result"
    }
   ],
   "source": [
    "#Минимальное значение цены равно нулю. Посмотрим, много ли таких объектов\n",
    "data.columns = data.columns.str.lower()\n",
    "\n",
    "data.query('price == 0')"
   ]
  },
  {
   "cell_type": "code",
   "execution_count": 5,
   "metadata": {},
   "outputs": [
    {
     "name": "stdout",
     "output_type": "stream",
     "text": [
      "<class 'pandas.core.frame.DataFrame'>\n",
      "Int64Index: 343597 entries, 0 to 354368\n",
      "Data columns (total 16 columns):\n",
      " #   Column             Non-Null Count   Dtype \n",
      "---  ------             --------------   ----- \n",
      " 0   datecrawled        343597 non-null  object\n",
      " 1   price              343597 non-null  int64 \n",
      " 2   vehicletype        309847 non-null  object\n",
      " 3   registrationyear   343597 non-null  int64 \n",
      " 4   gearbox            326242 non-null  object\n",
      " 5   power              343597 non-null  int64 \n",
      " 6   model              326076 non-null  object\n",
      " 7   kilometer          343597 non-null  int64 \n",
      " 8   registrationmonth  343597 non-null  int64 \n",
      " 9   fueltype           314138 non-null  object\n",
      " 10  brand              343597 non-null  object\n",
      " 11  notrepaired        277731 non-null  object\n",
      " 12  datecreated        343597 non-null  object\n",
      " 13  numberofpictures   343597 non-null  int64 \n",
      " 14  postalcode         343597 non-null  int64 \n",
      " 15  lastseen           343597 non-null  object\n",
      "dtypes: int64(7), object(9)\n",
      "memory usage: 44.6+ MB\n"
     ]
    }
   ],
   "source": [
    "#В данном случае мы можем убрать эти данные, так как они будут созвадать \"шумовой\" эффект в модели и только мешать нам\n",
    "\n",
    "data = data.query('price != 0')\n",
    "data.info()"
   ]
  },
  {
   "cell_type": "code",
   "execution_count": 6,
   "metadata": {},
   "outputs": [
    {
     "data": {
      "image/png": "[encoded data removed]",
      "text/plain": [
       "<Figure size 864x576 with 1 Axes>"
      ]
     },
     "metadata": {
      "needs_background": "light"
     },
     "output_type": "display_data"
    }
   ],
   "source": [
    "#Визуализируем количество пропусков по столбцам, чтобы лучше определить, что с ними делать\n",
    "\n",
    "total_data = data.shape[0]\n",
    "columns_data = data.columns.values.tolist()\n",
    "\n",
    "nan = []\n",
    "\n",
    "for col in columns_data:\n",
    "    quantity_not_nan = data[col].count()\n",
    "    percent_nan = ((total_data - quantity_not_nan) / total_data) * 100\n",
    "    nan.append(percent_nan)\n",
    "    \n",
    "nan_percent = pd.Series(nan, index=columns_data)\n",
    "nan_percent_mean = nan_percent.mean()\n",
    "nan_percent.sort_values(ascending=True, inplace=True)\n",
    "\n",
    "fig, ax = plt.subplots(figsize=(12,8))\n",
    "ax.barh(nan_percent.index, nan_percent.values)\n",
    "ax.set_title('% пропусков по столбцам')\n",
    "\n",
    "#построим линию, показывающую средний % пропусков по столбцам\n",
    "plt.axvline(\n",
    "    x=nan_percent_mean, linewidth=2,\n",
    "    label='Средний % пропусков по столбцам = {}'.format(round(nan_percent_mean, 2)),\n",
    "    color='r', linestyle='--')\n",
    "\n",
    "plt.legend()\n",
    "\n",
    "for i in ax.patches:\n",
    "    plt.text(i.get_width()+0.1,\n",
    "    i.get_y()+0.2, str(round(i.get_width(),2)),\n",
    "    fontsize=10, fontweight='bold', color='black')\n",
    "\n",
    "plt.show()"
   ]
  },
  {
   "cell_type": "markdown",
   "metadata": {},
   "source": [
    "- Наибольшее кол-во пропусков содержится в столбце NotRepaired (19,17%) - их можно заполнить значением *unknown*, так как корректно его заполнить не получится основываясь на других данных;\n",
    "- В столбце Vehicletype гораздо меньше пропусков (9,82%) - так же заполним на значения *unknown*;\n",
    "- Fueltype - 8,57% пропусков: в принципе, можем заменить на значением *petrol*, так как все равно большинство машин ездит именно на бензине, а гибриды и электрокары появились не так давно (процент населения, приобретающий его, - мал);\n",
    "- Столбцы Model и Gearbox содержать почти одинаковое кол-во пропусков (~5%). По каким-либо признакам, которые нам здесь даны, мы не смодем определить ни модель машины, ни коробку передать (робот, автомат или механика) - заполняем значением *unknown*.\n"
   ]
  },
  {
   "cell_type": "code",
   "execution_count": 7,
   "metadata": {},
   "outputs": [],
   "source": [
    "change_list = ['notrepaired', 'vehicletype', 'model', 'gearbox']\n",
    "for col in change_list:\n",
    "    data[col].fillna('unknown', inplace=True)"
   ]
  },
  {
   "cell_type": "code",
   "execution_count": 8,
   "metadata": {},
   "outputs": [
    {
     "data": {
      "text/plain": [
       "petrol      210765\n",
       "gasoline     97168\n",
       "lpg           5166\n",
       "cng            554\n",
       "hybrid         227\n",
       "other          170\n",
       "electric        88\n",
       "Name: fueltype, dtype: int64"
      ]
     },
     "execution_count": 8,
     "metadata": {},
     "output_type": "execute_result"
    }
   ],
   "source": [
    "data['fueltype'].value_counts()"
   ]
  },
  {
   "cell_type": "code",
   "execution_count": 9,
   "metadata": {},
   "outputs": [
    {
     "data": {
      "text/plain": [
       "0"
      ]
     },
     "execution_count": 9,
     "metadata": {},
     "output_type": "execute_result"
    }
   ],
   "source": [
    "#как и предполагалось, большинство ездит на бензине\n",
    "data['fueltype'].fillna('petrol', inplace=True)\n",
    "data['fueltype'].isna().sum()"
   ]
  },
  {
   "cell_type": "code",
   "execution_count": 10,
   "metadata": {},
   "outputs": [
    {
     "name": "stdout",
     "output_type": "stream",
     "text": [
      "<class 'pandas.core.frame.DataFrame'>\n",
      "Int64Index: 343597 entries, 0 to 354368\n",
      "Data columns (total 16 columns):\n",
      " #   Column             Non-Null Count   Dtype \n",
      "---  ------             --------------   ----- \n",
      " 0   datecrawled        343597 non-null  object\n",
      " 1   price              343597 non-null  int64 \n",
      " 2   vehicletype        343597 non-null  object\n",
      " 3   registrationyear   343597 non-null  int64 \n",
      " 4   gearbox            343597 non-null  object\n",
      " 5   power              343597 non-null  int64 \n",
      " 6   model              343597 non-null  object\n",
      " 7   kilometer          343597 non-null  int64 \n",
      " 8   registrationmonth  343597 non-null  int64 \n",
      " 9   fueltype           343597 non-null  object\n",
      " 10  brand              343597 non-null  object\n",
      " 11  notrepaired        343597 non-null  object\n",
      " 12  datecreated        343597 non-null  object\n",
      " 13  numberofpictures   343597 non-null  int64 \n",
      " 14  postalcode         343597 non-null  int64 \n",
      " 15  lastseen           343597 non-null  object\n",
      "dtypes: int64(7), object(9)\n",
      "memory usage: 44.6+ MB\n"
     ]
    }
   ],
   "source": [
    "data.info()"
   ]
  },
  {
   "cell_type": "markdown",
   "metadata": {},
   "source": [
    "*Пропуски заполнены, переходим к выбросам* "
   ]
  },
  {
   "cell_type": "code",
   "execution_count": 11,
   "metadata": {},
   "outputs": [
    {
     "data": {
      "image/png": "[encoded data removed]",
      "text/plain": [
       "<Figure size 432x288 with 1 Axes>"
      ]
     },
     "metadata": {
      "needs_background": "light"
     },
     "output_type": "display_data"
    }
   ],
   "source": [
    "data['price'].hist(bins=50)\n",
    "plt.title('Гистограмма Price', fontsize=14)\n",
    "plt.xlim(0, 2500)\n",
    "plt.show()"
   ]
  },
  {
   "cell_type": "code",
   "execution_count": 12,
   "metadata": {},
   "outputs": [
    {
     "data": {
      "image/png": "[encoded data removed]",
      "text/plain": [
       "<Figure size 432x288 with 1 Axes>"
      ]
     },
     "metadata": {
      "needs_background": "light"
     },
     "output_type": "display_data"
    }
   ],
   "source": [
    "sns.boxplot(data['price'])\n",
    "plt.title('Диаграмма размаха Price')\n",
    "plt.show()"
   ]
  },
  {
   "cell_type": "markdown",
   "metadata": {},
   "source": [
    "Значения до 400 евро похожи на выбросы, значения свыше 15000 евро - уже нет; скорее всего, там собраны элитные автомобили. Удалим из датафрема объекты с ценой менее 400 евро"
   ]
  },
  {
   "cell_type": "code",
   "execution_count": 13,
   "metadata": {},
   "outputs": [
    {
     "name": "stdout",
     "output_type": "stream",
     "text": [
      "<class 'pandas.core.frame.DataFrame'>\n",
      "Int64Index: 321908 entries, 0 to 354368\n",
      "Data columns (total 16 columns):\n",
      " #   Column             Non-Null Count   Dtype \n",
      "---  ------             --------------   ----- \n",
      " 0   datecrawled        321908 non-null  object\n",
      " 1   price              321908 non-null  int64 \n",
      " 2   vehicletype        321908 non-null  object\n",
      " 3   registrationyear   321908 non-null  int64 \n",
      " 4   gearbox            321908 non-null  object\n",
      " 5   power              321908 non-null  int64 \n",
      " 6   model              321908 non-null  object\n",
      " 7   kilometer          321908 non-null  int64 \n",
      " 8   registrationmonth  321908 non-null  int64 \n",
      " 9   fueltype           321908 non-null  object\n",
      " 10  brand              321908 non-null  object\n",
      " 11  notrepaired        321908 non-null  object\n",
      " 12  datecreated        321908 non-null  object\n",
      " 13  numberofpictures   321908 non-null  int64 \n",
      " 14  postalcode         321908 non-null  int64 \n",
      " 15  lastseen           321908 non-null  object\n",
      "dtypes: int64(7), object(9)\n",
      "memory usage: 41.8+ MB\n"
     ]
    }
   ],
   "source": [
    "data = data.query('price > 400')\n",
    "data.info()"
   ]
  },
  {
   "cell_type": "code",
   "execution_count": 14,
   "metadata": {},
   "outputs": [
    {
     "data": {
      "image/png": "[encoded data removed]",
      "text/plain": [
       "<Figure size 432x288 with 1 Axes>"
      ]
     },
     "metadata": {
      "needs_background": "light"
     },
     "output_type": "display_data"
    }
   ],
   "source": [
    "#в данных есть нулевые значения в столбце Power, рассмотрим их\n",
    "\n",
    "sns.boxplot(data['power'])\n",
    "plt.xlim(0,2500)\n",
    "plt.show()"
   ]
  },
  {
   "cell_type": "markdown",
   "metadata": {},
   "source": [
    "В нашем датафрейме есть автомобиль Trabant, его мощность 23 л.с. Будем считать его самым маломощным. Что касается самого мощного - едва ли обычные серийные автомобили превышают мощность в 500 л.с. По диаграмме размаха видно, что значения свыше 550 л.с. уже можно считать выбросами. Удалим значения до 23 л.с. и свыше 550 л.с."
   ]
  },
  {
   "cell_type": "code",
   "execution_count": 15,
   "metadata": {},
   "outputs": [
    {
     "name": "stdout",
     "output_type": "stream",
     "text": [
      "<class 'pandas.core.frame.DataFrame'>\n",
      "Int64Index: 291619 entries, 1 to 354368\n",
      "Data columns (total 16 columns):\n",
      " #   Column             Non-Null Count   Dtype \n",
      "---  ------             --------------   ----- \n",
      " 0   datecrawled        291619 non-null  object\n",
      " 1   price              291619 non-null  int64 \n",
      " 2   vehicletype        291619 non-null  object\n",
      " 3   registrationyear   291619 non-null  int64 \n",
      " 4   gearbox            291619 non-null  object\n",
      " 5   power              291619 non-null  int64 \n",
      " 6   model              291619 non-null  object\n",
      " 7   kilometer          291619 non-null  int64 \n",
      " 8   registrationmonth  291619 non-null  int64 \n",
      " 9   fueltype           291619 non-null  object\n",
      " 10  brand              291619 non-null  object\n",
      " 11  notrepaired        291619 non-null  object\n",
      " 12  datecreated        291619 non-null  object\n",
      " 13  numberofpictures   291619 non-null  int64 \n",
      " 14  postalcode         291619 non-null  int64 \n",
      " 15  lastseen           291619 non-null  object\n",
      "dtypes: int64(7), object(9)\n",
      "memory usage: 37.8+ MB\n"
     ]
    }
   ],
   "source": [
    "data = data.query('23 <= power < 550')\n",
    "data.info()"
   ]
  },
  {
   "cell_type": "markdown",
   "metadata": {},
   "source": [
    "<div class=\"alert alert-block alert-success\">\n",
    "    \n",
    "<b>Успех:</b> С границами согласен"
   ]
  },
  {
   "cell_type": "markdown",
   "metadata": {},
   "source": [
    "Также видим аномалии в годах регистрации автомобилей: минимальное значение 1000, максимальное 9999. Будем считать минимальным годом регистрации год начала продаж Trabant - 1957. Максимальным годом будем считать дату создания анкеты:"
   ]
  },
  {
   "cell_type": "code",
   "execution_count": 16,
   "metadata": {},
   "outputs": [
    {
     "data": {
      "text/plain": [
       "'2016-04-07 00:00:00'"
      ]
     },
     "execution_count": 16,
     "metadata": {},
     "output_type": "execute_result"
    }
   ],
   "source": [
    "data['datecreated'].max()"
   ]
  },
  {
   "cell_type": "code",
   "execution_count": 17,
   "metadata": {},
   "outputs": [
    {
     "name": "stdout",
     "output_type": "stream",
     "text": [
      "<class 'pandas.core.frame.DataFrame'>\n",
      "Int64Index: 281601 entries, 1 to 354368\n",
      "Data columns (total 16 columns):\n",
      " #   Column             Non-Null Count   Dtype \n",
      "---  ------             --------------   ----- \n",
      " 0   datecrawled        281601 non-null  object\n",
      " 1   price              281601 non-null  int64 \n",
      " 2   vehicletype        281601 non-null  object\n",
      " 3   registrationyear   281601 non-null  int64 \n",
      " 4   gearbox            281601 non-null  object\n",
      " 5   power              281601 non-null  int64 \n",
      " 6   model              281601 non-null  object\n",
      " 7   kilometer          281601 non-null  int64 \n",
      " 8   registrationmonth  281601 non-null  int64 \n",
      " 9   fueltype           281601 non-null  object\n",
      " 10  brand              281601 non-null  object\n",
      " 11  notrepaired        281601 non-null  object\n",
      " 12  datecreated        281601 non-null  object\n",
      " 13  numberofpictures   281601 non-null  int64 \n",
      " 14  postalcode         281601 non-null  int64 \n",
      " 15  lastseen           281601 non-null  object\n",
      "dtypes: int64(7), object(9)\n",
      "memory usage: 36.5+ MB\n"
     ]
    }
   ],
   "source": [
    "#Удалим все значения раньше 1957 года и позже 2016 года\n",
    "data = data.query('1957 <= registrationyear <= 2016')\n",
    "data.info()"
   ]
  },
  {
   "cell_type": "code",
   "execution_count": 18,
   "metadata": {},
   "outputs": [
    {
     "data": {
      "text/plain": [
       "4"
      ]
     },
     "execution_count": 18,
     "metadata": {},
     "output_type": "execute_result"
    }
   ],
   "source": [
    "#Проверяем данные на дубликаты, при необходимости удаяем их\n",
    "\n",
    "data.duplicated().sum()"
   ]
  },
  {
   "cell_type": "code",
   "execution_count": 19,
   "metadata": {},
   "outputs": [
    {
     "name": "stdout",
     "output_type": "stream",
     "text": [
      "<class 'pandas.core.frame.DataFrame'>\n",
      "Int64Index: 281597 entries, 1 to 354368\n",
      "Data columns (total 16 columns):\n",
      " #   Column             Non-Null Count   Dtype \n",
      "---  ------             --------------   ----- \n",
      " 0   datecrawled        281597 non-null  object\n",
      " 1   price              281597 non-null  int64 \n",
      " 2   vehicletype        281597 non-null  object\n",
      " 3   registrationyear   281597 non-null  int64 \n",
      " 4   gearbox            281597 non-null  object\n",
      " 5   power              281597 non-null  int64 \n",
      " 6   model              281597 non-null  object\n",
      " 7   kilometer          281597 non-null  int64 \n",
      " 8   registrationmonth  281597 non-null  int64 \n",
      " 9   fueltype           281597 non-null  object\n",
      " 10  brand              281597 non-null  object\n",
      " 11  notrepaired        281597 non-null  object\n",
      " 12  datecreated        281597 non-null  object\n",
      " 13  numberofpictures   281597 non-null  int64 \n",
      " 14  postalcode         281597 non-null  int64 \n",
      " 15  lastseen           281597 non-null  object\n",
      "dtypes: int64(7), object(9)\n",
      "memory usage: 36.5+ MB\n"
     ]
    }
   ],
   "source": [
    "data.drop_duplicates(inplace=True)\n",
    "data.info()"
   ]
  },
  {
   "cell_type": "markdown",
   "metadata": {},
   "source": [
    "Для построения моделей не важны следующие параметры: дата создания анкеты, месяц регистрации автомобиля, дата скачивания анкеты из базы, количество фотографий автомобиля, почтовый код владельца анкеты, дата последней активности пользователя. Удалим эти столбцы, чтобы избежать лишнего шума в моделях и увеличить скорость вычислений."
   ]
  },
  {
   "cell_type": "code",
   "execution_count": 20,
   "metadata": {},
   "outputs": [],
   "source": [
    "data = data.drop(['lastseen', 'postalcode', 'numberofpictures', 'datecreated', 'registrationmonth',\n",
    "                                                                              'datecrawled'], axis=1)"
   ]
  },
  {
   "cell_type": "markdown",
   "metadata": {},
   "source": [
    "<div class=\"alert alert-block alert-success\">\n",
    "<b>Успех:</b> Удалить неинформативные признаки - хорошее решение\n",
    "</div>\n"
   ]
  },
  {
   "cell_type": "code",
   "execution_count": 21,
   "metadata": {},
   "outputs": [
    {
     "data": {
      "image/png": "[encoded data removed]",
      "text/plain": [
       "<Figure size 432x288 with 2 Axes>"
      ]
     },
     "metadata": {},
     "output_type": "display_data"
    }
   ],
   "source": [
    "#Проверим признаки на мультиколлинеарность\n",
    "numeric = data.drop(['vehicletype', 'gearbox', 'model', 'fueltype', 'brand', 'notrepaired'], axis=1)\n",
    "sns.set(font_scale=1)\n",
    "sns.heatmap(numeric.corr(), cmap='RdYlGn', annot=True)\n",
    "plt.title('Корреляция числовых признаков', fontsize=14)\n",
    "\n",
    "plt.show()"
   ]
  },
  {
   "cell_type": "markdown",
   "metadata": {},
   "source": [
    "Мультиколлинеарности нет. Как и ожидалось - больше всего на цену автомобиля влияет год регистрации и мощность."
   ]
  },
  {
   "cell_type": "markdown",
   "metadata": {},
   "source": [
    "*Вывод*: \n",
    "\n",
    "Обработали пропуски, удалили выбросы и признаки, которые не представляли важности в данном исследовании. Переходим у подготовке признаков для обучения моделей и, непоосредственно, к самому обучению."
   ]
  },
  {
   "cell_type": "markdown",
   "metadata": {},
   "source": [
    "## Обучение моделей"
   ]
  },
  {
   "cell_type": "markdown",
   "metadata": {},
   "source": [
    "### Подготовка данных"
   ]
  },
  {
   "cell_type": "markdown",
   "metadata": {},
   "source": [
    "Для прогнозирования цены автомобиля будем использовать следующие модели:\n",
    "- LinearRegression,\n",
    "- Ridge,\n",
    "- LGBMRegression,\n",
    "- CatBoostRegression.\n",
    "\n",
    "Для моделей LinearRegression и Ridge воспользуемся методом OHE(One-hot encoding) для кодирования категориальных признаков. Затем разобьем данные на обучающую и тестовую выборки в пропорции 80/20."
   ]
  },
  {
   "cell_type": "code",
   "execution_count": 23,
   "metadata": {},
   "outputs": [
    {
     "name": "stdout",
     "output_type": "stream",
     "text": [
      "Размер таблицы признаков обучающей выборки:  (225277, 309)\n",
      "Размер таблицы признаков тестовой выборки:  (56320, 309)\n"
     ]
    }
   ],
   "source": [
    "data_ohe = pd.get_dummies(data, drop_first=True)\n",
    "\n",
    "target_linear = data_ohe['price']\n",
    "features_linear = data_ohe.drop('price', axis=1)\n",
    "\n",
    "features_train_linear, features_test_linear, target_train_linear, target_test_linear = train_test_split(\n",
    "                                      features_linear, target_linear, test_size=0.2, random_state = 123)\n",
    "\n",
    "print('Размер таблицы признаков обучающей выборки: ', features_train_linear.shape)\n",
    "print('Размер таблицы признаков тестовой выборки: ', features_test_linear.shape)"
   ]
  },
  {
   "cell_type": "code",
   "execution_count": 24,
   "metadata": {},
   "outputs": [
    {
     "data": {
      "text/html": [
       "<div>\n",
       "<style scoped>\n",
       "    .dataframe tbody tr th:only-of-type {\n",
       "        vertical-align: middle;\n",
       "    }\n",
       "\n",
       "    .dataframe tbody tr th {\n",
       "        vertical-align: top;\n",
       "    }\n",
       "\n",
       "    .dataframe thead th {\n",
       "        text-align: right;\n",
       "    }\n",
       "</style>\n",
       "<table border=\"1\" class=\"dataframe\">\n",
       "  <thead>\n",
       "    <tr style=\"text-align: right;\">\n",
       "      <th></th>\n",
       "      <th>registrationyear</th>\n",
       "      <th>power</th>\n",
       "      <th>kilometer</th>\n",
       "      <th>vehicletype_convertible</th>\n",
       "      <th>vehicletype_coupe</th>\n",
       "      <th>vehicletype_other</th>\n",
       "      <th>vehicletype_sedan</th>\n",
       "      <th>vehicletype_small</th>\n",
       "      <th>vehicletype_suv</th>\n",
       "      <th>vehicletype_unknown</th>\n",
       "      <th>...</th>\n",
       "      <th>brand_smart</th>\n",
       "      <th>brand_sonstige_autos</th>\n",
       "      <th>brand_subaru</th>\n",
       "      <th>brand_suzuki</th>\n",
       "      <th>brand_toyota</th>\n",
       "      <th>brand_trabant</th>\n",
       "      <th>brand_volkswagen</th>\n",
       "      <th>brand_volvo</th>\n",
       "      <th>notrepaired_unknown</th>\n",
       "      <th>notrepaired_yes</th>\n",
       "    </tr>\n",
       "  </thead>\n",
       "  <tbody>\n",
       "    <tr>\n",
       "      <th>243126</th>\n",
       "      <td>-0.010656</td>\n",
       "      <td>-0.143067</td>\n",
       "      <td>0.601116</td>\n",
       "      <td>1</td>\n",
       "      <td>0</td>\n",
       "      <td>0</td>\n",
       "      <td>0</td>\n",
       "      <td>0</td>\n",
       "      <td>0</td>\n",
       "      <td>0</td>\n",
       "      <td>...</td>\n",
       "      <td>0</td>\n",
       "      <td>0</td>\n",
       "      <td>0</td>\n",
       "      <td>0</td>\n",
       "      <td>0</td>\n",
       "      <td>0</td>\n",
       "      <td>1</td>\n",
       "      <td>0</td>\n",
       "      <td>0</td>\n",
       "      <td>0</td>\n",
       "    </tr>\n",
       "    <tr>\n",
       "      <th>220890</th>\n",
       "      <td>0.459898</td>\n",
       "      <td>0.754205</td>\n",
       "      <td>0.601116</td>\n",
       "      <td>0</td>\n",
       "      <td>0</td>\n",
       "      <td>0</td>\n",
       "      <td>0</td>\n",
       "      <td>0</td>\n",
       "      <td>0</td>\n",
       "      <td>0</td>\n",
       "      <td>...</td>\n",
       "      <td>0</td>\n",
       "      <td>0</td>\n",
       "      <td>0</td>\n",
       "      <td>0</td>\n",
       "      <td>0</td>\n",
       "      <td>0</td>\n",
       "      <td>0</td>\n",
       "      <td>0</td>\n",
       "      <td>0</td>\n",
       "      <td>0</td>\n",
       "    </tr>\n",
       "    <tr>\n",
       "      <th>153765</th>\n",
       "      <td>-0.481211</td>\n",
       "      <td>3.427327</td>\n",
       "      <td>0.601116</td>\n",
       "      <td>0</td>\n",
       "      <td>1</td>\n",
       "      <td>0</td>\n",
       "      <td>0</td>\n",
       "      <td>0</td>\n",
       "      <td>0</td>\n",
       "      <td>0</td>\n",
       "      <td>...</td>\n",
       "      <td>0</td>\n",
       "      <td>0</td>\n",
       "      <td>0</td>\n",
       "      <td>0</td>\n",
       "      <td>0</td>\n",
       "      <td>0</td>\n",
       "      <td>0</td>\n",
       "      <td>0</td>\n",
       "      <td>0</td>\n",
       "      <td>0</td>\n",
       "    </tr>\n",
       "    <tr>\n",
       "      <th>139464</th>\n",
       "      <td>1.087304</td>\n",
       "      <td>1.520624</td>\n",
       "      <td>-1.029226</td>\n",
       "      <td>0</td>\n",
       "      <td>0</td>\n",
       "      <td>0</td>\n",
       "      <td>1</td>\n",
       "      <td>0</td>\n",
       "      <td>0</td>\n",
       "      <td>0</td>\n",
       "      <td>...</td>\n",
       "      <td>0</td>\n",
       "      <td>0</td>\n",
       "      <td>0</td>\n",
       "      <td>0</td>\n",
       "      <td>0</td>\n",
       "      <td>0</td>\n",
       "      <td>0</td>\n",
       "      <td>0</td>\n",
       "      <td>0</td>\n",
       "      <td>0</td>\n",
       "    </tr>\n",
       "    <tr>\n",
       "      <th>114925</th>\n",
       "      <td>1.401007</td>\n",
       "      <td>-0.329998</td>\n",
       "      <td>-1.572673</td>\n",
       "      <td>0</td>\n",
       "      <td>0</td>\n",
       "      <td>0</td>\n",
       "      <td>1</td>\n",
       "      <td>0</td>\n",
       "      <td>0</td>\n",
       "      <td>0</td>\n",
       "      <td>...</td>\n",
       "      <td>0</td>\n",
       "      <td>0</td>\n",
       "      <td>0</td>\n",
       "      <td>0</td>\n",
       "      <td>0</td>\n",
       "      <td>0</td>\n",
       "      <td>0</td>\n",
       "      <td>0</td>\n",
       "      <td>1</td>\n",
       "      <td>0</td>\n",
       "    </tr>\n",
       "  </tbody>\n",
       "</table>\n",
       "<p>5 rows × 309 columns</p>\n",
       "</div>"
      ],
      "text/plain": [
       "        registrationyear     power  kilometer  vehicletype_convertible  \\\n",
       "243126         -0.010656 -0.143067   0.601116                        1   \n",
       "220890          0.459898  0.754205   0.601116                        0   \n",
       "153765         -0.481211  3.427327   0.601116                        0   \n",
       "139464          1.087304  1.520624  -1.029226                        0   \n",
       "114925          1.401007 -0.329998  -1.572673                        0   \n",
       "\n",
       "        vehicletype_coupe  vehicletype_other  vehicletype_sedan  \\\n",
       "243126                  0                  0                  0   \n",
       "220890                  0                  0                  0   \n",
       "153765                  1                  0                  0   \n",
       "139464                  0                  0                  1   \n",
       "114925                  0                  0                  1   \n",
       "\n",
       "        vehicletype_small  vehicletype_suv  vehicletype_unknown  ...  \\\n",
       "243126                  0                0                    0  ...   \n",
       "220890                  0                0                    0  ...   \n",
       "153765                  0                0                    0  ...   \n",
       "139464                  0                0                    0  ...   \n",
       "114925                  0                0                    0  ...   \n",
       "\n",
       "        brand_smart  brand_sonstige_autos  brand_subaru  brand_suzuki  \\\n",
       "243126            0                     0             0             0   \n",
       "220890            0                     0             0             0   \n",
       "153765            0                     0             0             0   \n",
       "139464            0                     0             0             0   \n",
       "114925            0                     0             0             0   \n",
       "\n",
       "        brand_toyota  brand_trabant  brand_volkswagen  brand_volvo  \\\n",
       "243126             0              0                 1            0   \n",
       "220890             0              0                 0            0   \n",
       "153765             0              0                 0            0   \n",
       "139464             0              0                 0            0   \n",
       "114925             0              0                 0            0   \n",
       "\n",
       "        notrepaired_unknown  notrepaired_yes  \n",
       "243126                    0                0  \n",
       "220890                    0                0  \n",
       "153765                    0                0  \n",
       "139464                    0                0  \n",
       "114925                    1                0  \n",
       "\n",
       "[5 rows x 309 columns]"
      ]
     },
     "execution_count": 24,
     "metadata": {},
     "output_type": "execute_result"
    }
   ],
   "source": [
    "#масштабируем признаки\n",
    "scaler = StandardScaler()\n",
    "\n",
    "numerical = ['registrationyear', 'power', 'kilometer']\n",
    "\n",
    "scaler.fit(features_train_linear[numerical])\n",
    "\n",
    "features_train_linear[numerical] = scaler.transform(features_train_linear[numerical])\n",
    "features_test_linear[numerical] = scaler.transform(features_test_linear[numerical])\n",
    "\n",
    "features_train_linear.head()"
   ]
  },
  {
   "cell_type": "code",
   "execution_count": 26,
   "metadata": {
    "scrolled": true
   },
   "outputs": [
    {
     "name": "stdout",
     "output_type": "stream",
     "text": [
      "<class 'pandas.core.frame.DataFrame'>\n",
      "Int64Index: 281597 entries, 1 to 354368\n",
      "Data columns (total 10 columns):\n",
      " #   Column            Non-Null Count   Dtype   \n",
      "---  ------            --------------   -----   \n",
      " 0   price             281597 non-null  int64   \n",
      " 1   vehicletype       281597 non-null  category\n",
      " 2   registrationyear  281597 non-null  int64   \n",
      " 3   gearbox           281597 non-null  category\n",
      " 4   power             281597 non-null  int64   \n",
      " 5   model             281597 non-null  category\n",
      " 6   kilometer         281597 non-null  int64   \n",
      " 7   fueltype          281597 non-null  category\n",
      " 8   brand             281597 non-null  category\n",
      " 9   notrepaired       281597 non-null  category\n",
      "dtypes: category(6), int64(4)\n",
      "memory usage: 12.6 MB\n"
     ]
    }
   ],
   "source": [
    "#Модели градиентного бустинга не умеют работать с типом object\n",
    "#Изменим тип категориальных признаков на category\n",
    "\n",
    "categorical = ['vehicletype', 'gearbox', 'model', 'fueltype', 'brand', 'notrepaired']\n",
    "\n",
    "for col in categorical:\n",
    "    data[col] = data[col].astype('category')\n",
    "\n",
    "data.info()"
   ]
  },
  {
   "cell_type": "code",
   "execution_count": 27,
   "metadata": {},
   "outputs": [
    {
     "name": "stdout",
     "output_type": "stream",
     "text": [
      "Размер таблицы признаков обучающей выборки:  (225277, 9)\n",
      "Размер таблицы признаков тестовой выборки:  (56320, 9)\n"
     ]
    }
   ],
   "source": [
    "#снова разбиваем данные на тестовую и обучающую выборку\n",
    "target_boost = data['price']\n",
    "features_boost = data.drop('price', axis=1)\n",
    "\n",
    "features_train_boost, features_test_boost, target_train_boost, target_test_boost = train_test_split(\n",
    "                                      features_boost, target_boost, test_size=0.2, random_state = 123)\n",
    "\n",
    "print('Размер таблицы признаков обучающей выборки: ', features_train_boost.shape)\n",
    "print('Размер таблицы признаков тестовой выборки: ', features_test_boost.shape)"
   ]
  },
  {
   "cell_type": "code",
   "execution_count": 28,
   "metadata": {},
   "outputs": [
    {
     "data": {
      "text/html": [
       "<div>\n",
       "<style scoped>\n",
       "    .dataframe tbody tr th:only-of-type {\n",
       "        vertical-align: middle;\n",
       "    }\n",
       "\n",
       "    .dataframe tbody tr th {\n",
       "        vertical-align: top;\n",
       "    }\n",
       "\n",
       "    .dataframe thead th {\n",
       "        text-align: right;\n",
       "    }\n",
       "</style>\n",
       "<table border=\"1\" class=\"dataframe\">\n",
       "  <thead>\n",
       "    <tr style=\"text-align: right;\">\n",
       "      <th></th>\n",
       "      <th>vehicletype</th>\n",
       "      <th>registrationyear</th>\n",
       "      <th>gearbox</th>\n",
       "      <th>power</th>\n",
       "      <th>model</th>\n",
       "      <th>kilometer</th>\n",
       "      <th>fueltype</th>\n",
       "      <th>brand</th>\n",
       "      <th>notrepaired</th>\n",
       "    </tr>\n",
       "  </thead>\n",
       "  <tbody>\n",
       "    <tr>\n",
       "      <th>243126</th>\n",
       "      <td>convertible</td>\n",
       "      <td>-0.010656</td>\n",
       "      <td>manual</td>\n",
       "      <td>-0.143067</td>\n",
       "      <td>beetle</td>\n",
       "      <td>0.601116</td>\n",
       "      <td>petrol</td>\n",
       "      <td>volkswagen</td>\n",
       "      <td>no</td>\n",
       "    </tr>\n",
       "    <tr>\n",
       "      <th>220890</th>\n",
       "      <td>wagon</td>\n",
       "      <td>0.459898</td>\n",
       "      <td>auto</td>\n",
       "      <td>0.754205</td>\n",
       "      <td>3er</td>\n",
       "      <td>0.601116</td>\n",
       "      <td>gasoline</td>\n",
       "      <td>bmw</td>\n",
       "      <td>no</td>\n",
       "    </tr>\n",
       "    <tr>\n",
       "      <th>153765</th>\n",
       "      <td>coupe</td>\n",
       "      <td>-0.481211</td>\n",
       "      <td>auto</td>\n",
       "      <td>3.427327</td>\n",
       "      <td>cl</td>\n",
       "      <td>0.601116</td>\n",
       "      <td>petrol</td>\n",
       "      <td>mercedes_benz</td>\n",
       "      <td>no</td>\n",
       "    </tr>\n",
       "    <tr>\n",
       "      <th>139464</th>\n",
       "      <td>sedan</td>\n",
       "      <td>1.087304</td>\n",
       "      <td>auto</td>\n",
       "      <td>1.520624</td>\n",
       "      <td>5er</td>\n",
       "      <td>-1.029226</td>\n",
       "      <td>gasoline</td>\n",
       "      <td>bmw</td>\n",
       "      <td>no</td>\n",
       "    </tr>\n",
       "    <tr>\n",
       "      <th>114925</th>\n",
       "      <td>sedan</td>\n",
       "      <td>1.401007</td>\n",
       "      <td>manual</td>\n",
       "      <td>-0.329998</td>\n",
       "      <td>leon</td>\n",
       "      <td>-1.572673</td>\n",
       "      <td>gasoline</td>\n",
       "      <td>seat</td>\n",
       "      <td>unknown</td>\n",
       "    </tr>\n",
       "  </tbody>\n",
       "</table>\n",
       "</div>"
      ],
      "text/plain": [
       "        vehicletype  registrationyear gearbox     power   model  kilometer  \\\n",
       "243126  convertible         -0.010656  manual -0.143067  beetle   0.601116   \n",
       "220890        wagon          0.459898    auto  0.754205     3er   0.601116   \n",
       "153765        coupe         -0.481211    auto  3.427327      cl   0.601116   \n",
       "139464        sedan          1.087304    auto  1.520624     5er  -1.029226   \n",
       "114925        sedan          1.401007  manual -0.329998    leon  -1.572673   \n",
       "\n",
       "        fueltype          brand notrepaired  \n",
       "243126    petrol     volkswagen          no  \n",
       "220890  gasoline            bmw          no  \n",
       "153765    petrol  mercedes_benz          no  \n",
       "139464  gasoline            bmw          no  \n",
       "114925  gasoline           seat     unknown  "
      ]
     },
     "execution_count": 28,
     "metadata": {},
     "output_type": "execute_result"
    }
   ],
   "source": [
    "#масштабируем признаки\n",
    "scaler.fit(features_train_boost[numerical])\n",
    "\n",
    "features_train_boost[numerical] = scaler.transform(features_train_boost[numerical])\n",
    "features_test_boost[numerical] = scaler.transform(features_test_boost[numerical])\n",
    "\n",
    "features_train_boost.head()"
   ]
  },
  {
   "cell_type": "markdown",
   "metadata": {},
   "source": [
    "Напишем функцию, которая будет считать время обучения и время предсказания, а также RMSE моделей:"
   ]
  },
  {
   "cell_type": "code",
   "execution_count": 29,
   "metadata": {},
   "outputs": [],
   "source": [
    "def model_final(model, X_train, y_train, X_test, y_test):\n",
    "    \n",
    "    start = time.time()    \n",
    "    model.fit(X_train, y_train)\n",
    "    train_time = time.time() - start\n",
    "    \n",
    "    start = time.time()  \n",
    "    y_pred = model.predict(X_test)\n",
    "    predict_time = time.time() - start\n",
    "    \n",
    "    rmse = np.sqrt(mean_squared_error(y_test, y_pred))\n",
    "\n",
    "    return train_time, predict_time, rmse"
   ]
  },
  {
   "cell_type": "markdown",
   "metadata": {},
   "source": [
    "### Обучение моделей"
   ]
  },
  {
   "cell_type": "code",
   "execution_count": 30,
   "metadata": {},
   "outputs": [
    {
     "name": "stdout",
     "output_type": "stream",
     "text": [
      "Linear Regression:\n",
      "Время обучения:  373.16 сек\n",
      "Время предсказания:  0.19 сек\n",
      "RMSE модели:  2534.74 евро\n"
     ]
    }
   ],
   "source": [
    "#подберем оптимальные гиперпараметры с помощью GridSearchCV, проверим на тестовой выборке\n",
    "\n",
    "model = LinearRegression()\n",
    "\n",
    "search_space_linear = [{'fit_intercept': [True, False],\n",
    "                        'normalize': [True, False]}]\n",
    "\n",
    "\n",
    "gs_linear = GridSearchCV(model, \n",
    "                        search_space_linear, \n",
    "                        cv = 5, \n",
    "                        verbose = 0, \n",
    "                        n_jobs=1,\n",
    "                        scoring='neg_mean_squared_error')\n",
    "\n",
    "train_time_linear, predict_time_linear, rmse_linear = model_final(gs_linear, features_train_linear, \n",
    "                                                                               target_train_linear,\n",
    "                                                                              features_test_linear, \n",
    "                                                                                target_test_linear)\n",
    "\n",
    "print('Linear Regression:')\n",
    "print('Время обучения: ', round(train_time_linear, 2), 'сек')\n",
    "print('Время предсказания: ', round(predict_time_linear, 2), 'сек')\n",
    "print('RMSE модели: ', round(rmse_linear, 2), 'евро')"
   ]
  },
  {
   "cell_type": "code",
   "execution_count": 31,
   "metadata": {},
   "outputs": [
    {
     "name": "stdout",
     "output_type": "stream",
     "text": [
      "Ridge:\n",
      "Время обучения:  264.6 сек\n",
      "Время предсказания:  0.24 сек\n",
      "RMSE модели:  2534.57 евро\n"
     ]
    }
   ],
   "source": [
    "model = Ridge()\n",
    "\n",
    "search_space_ridge = [{'fit_intercept': [True, False],\n",
    "                       'normalize': [True, False],\n",
    "                       'alpha': np.linspace(1, 3, num = 5)}]\n",
    "\n",
    "\n",
    "gs_ridge = GridSearchCV(model, \n",
    "                        search_space_ridge, \n",
    "                        cv = 5, \n",
    "                        verbose = 0, \n",
    "                        n_jobs=1,\n",
    "                        scoring='neg_mean_squared_error')\n",
    "\n",
    "train_time_ridge, predict_time_ridge, rmse_ridge = model_final(gs_ridge, features_train_linear,\n",
    "                                                                           target_train_linear,\n",
    "                                                                          features_test_linear,\n",
    "                                                                            target_test_linear)\n",
    "\n",
    "print('Ridge:')\n",
    "print('Время обучения: ', round(train_time_ridge, 2), 'сек')\n",
    "print('Время предсказания: ', round(predict_time_ridge, 2), 'сек')\n",
    "print('RMSE модели: ', round(rmse_ridge, 2), 'евро')"
   ]
  },
  {
   "cell_type": "code",
   "execution_count": 32,
   "metadata": {},
   "outputs": [
    {
     "name": "stdout",
     "output_type": "stream",
     "text": [
      "LGBMRegressor:\n",
      "Время обучения:  374.41 сек\n",
      "Время предсказания:  1.3 сек\n",
      "RMSE модели:  1510.64 евро\n"
     ]
    }
   ],
   "source": [
    "model = LGBMRegressor(categorical_feature=categorical)\n",
    "\n",
    "search_space_lgbm = [{'learning_rate': [0.05, 0.1],\n",
    "                       'n_estimators': [100, 200],\n",
    "                       'num_leaves': [31, 62]}]\n",
    "\n",
    "\n",
    "gs_lgbm = GridSearchCV(model, \n",
    "                        search_space_lgbm, \n",
    "                        cv = 5, \n",
    "                        verbose = 0, \n",
    "                        n_jobs=1,\n",
    "                        scoring='neg_mean_squared_error')\n",
    "\n",
    "train_time_lgbm, predict_time_lgbm, rmse_lgbm = model_final(gs_lgbm, features_train_boost, target_train_boost,\n",
    "                                                                       features_test_boost, target_test_boost)\n",
    "\n",
    "print('LGBMRegressor:')\n",
    "print('Время обучения: ', round(train_time_lgbm, 2), 'сек')\n",
    "print('Время предсказания: ', round(predict_time_lgbm, 2), 'сек')\n",
    "print('RMSE модели: ', round(rmse_lgbm, 2), 'евро')"
   ]
  },
  {
   "cell_type": "code",
   "execution_count": 33,
   "metadata": {},
   "outputs": [
    {
     "name": "stdout",
     "output_type": "stream",
     "text": [
      "CatBoost:\n",
      "Время обучения:  444.74 сек\n",
      "Время предсказания:  0.04 сек\n",
      "RMSE модели:  1709.52 евро\n"
     ]
    }
   ],
   "source": [
    "model = CatBoostRegressor(loss_function='RMSE', silent=True, cat_features=categorical)\n",
    "\n",
    "search_space_catboost = [{'learning_rate': [0.03, 0.1],\n",
    "                          'iterations': [40, 60, 80],\n",
    "                          'depth': [4, 6, 8]}]\n",
    "\n",
    "\n",
    "gs_catboost = GridSearchCV(model, \n",
    "                        search_space_catboost, \n",
    "                        cv = 5, \n",
    "                        verbose = 0, \n",
    "                        n_jobs=1,\n",
    "                        scoring='neg_mean_squared_error')\n",
    "\n",
    "train_time_catboost, predict_time_catboost, rmse_catboost = model_final(gs_catboost, features_train_boost,\n",
    "                                                                                       target_train_boost,\n",
    "                                                                                      features_test_boost,\n",
    "                                                                                        target_test_boost)\n",
    "\n",
    "print('CatBoost:')\n",
    "print('Время обучения: ', round(train_time_catboost, 2), 'сек')\n",
    "print('Время предсказания: ', round(predict_time_catboost, 2), 'сек')\n",
    "print('RMSE модели: ', round(rmse_catboost, 2), 'евро')"
   ]
  },
  {
   "cell_type": "markdown",
   "metadata": {},
   "source": [
    "## Анализ моделей"
   ]
  },
  {
   "cell_type": "markdown",
   "metadata": {},
   "source": [
    "Для того, чтобы выснить, хорошо ли отрабатывают наши модели, нужно сравнить их с простой моделью. Воспользуемся DummyRegressor:"
   ]
  },
  {
   "cell_type": "code",
   "execution_count": 34,
   "metadata": {},
   "outputs": [
    {
     "name": "stdout",
     "output_type": "stream",
     "text": [
      "Dummy:\n",
      "Время обучения:  0.0 сек\n",
      "Время предсказания:  0.0 сек\n",
      "RMSE модели:  4589.04 евро\n"
     ]
    }
   ],
   "source": [
    "dummy = DummyRegressor(strategy='mean')\n",
    "\n",
    "train_time_dummy, predict_time_dummy, rmse_dummy = model_final(dummy, features_train_linear, target_train_linear,\n",
    "                                                                       features_test_linear, target_test_linear)\n",
    "\n",
    "print('Dummy:')\n",
    "print('Время обучения: ', round(train_time_dummy, 2), 'сек')\n",
    "print('Время предсказания: ', round(predict_time_dummy, 2), 'сек')\n",
    "print('RMSE модели: ', round(rmse_dummy, 2), 'евро')"
   ]
  },
  {
   "cell_type": "code",
   "execution_count": 35,
   "metadata": {},
   "outputs": [
    {
     "data": {
      "text/html": [
       "<div>\n",
       "<style scoped>\n",
       "    .dataframe tbody tr th:only-of-type {\n",
       "        vertical-align: middle;\n",
       "    }\n",
       "\n",
       "    .dataframe tbody tr th {\n",
       "        vertical-align: top;\n",
       "    }\n",
       "\n",
       "    .dataframe thead th {\n",
       "        text-align: right;\n",
       "    }\n",
       "</style>\n",
       "<table border=\"1\" class=\"dataframe\">\n",
       "  <thead>\n",
       "    <tr style=\"text-align: right;\">\n",
       "      <th></th>\n",
       "      <th>Время обучения</th>\n",
       "      <th>Время предсказания</th>\n",
       "      <th>RMSE</th>\n",
       "    </tr>\n",
       "  </thead>\n",
       "  <tbody>\n",
       "    <tr>\n",
       "      <th>LinearRegression</th>\n",
       "      <td>373.16</td>\n",
       "      <td>0.19</td>\n",
       "      <td>2534.74</td>\n",
       "    </tr>\n",
       "    <tr>\n",
       "      <th>Ridge</th>\n",
       "      <td>264.60</td>\n",
       "      <td>0.24</td>\n",
       "      <td>2534.57</td>\n",
       "    </tr>\n",
       "    <tr>\n",
       "      <th>LGBMRegressor</th>\n",
       "      <td>374.41</td>\n",
       "      <td>1.30</td>\n",
       "      <td>1510.64</td>\n",
       "    </tr>\n",
       "    <tr>\n",
       "      <th>CatBoostRegressor</th>\n",
       "      <td>444.74</td>\n",
       "      <td>0.04</td>\n",
       "      <td>1709.52</td>\n",
       "    </tr>\n",
       "    <tr>\n",
       "      <th>DummyRegressor</th>\n",
       "      <td>0.00</td>\n",
       "      <td>0.00</td>\n",
       "      <td>4589.04</td>\n",
       "    </tr>\n",
       "  </tbody>\n",
       "</table>\n",
       "</div>"
      ],
      "text/plain": [
       "                   Время обучения  Время предсказания    RMSE\n",
       "LinearRegression           373.16                0.19 2534.74\n",
       "Ridge                      264.60                0.24 2534.57\n",
       "LGBMRegressor              374.41                1.30 1510.64\n",
       "CatBoostRegressor          444.74                0.04 1709.52\n",
       "DummyRegressor               0.00                0.00 4589.04"
      ]
     },
     "metadata": {},
     "output_type": "display_data"
    }
   ],
   "source": [
    "#Объединим результаты в сводную таблицу\n",
    "\n",
    "df = {'Время обучения':[train_time_linear, train_time_ridge, train_time_lgbm, train_time_catboost,\n",
    "                          train_time_dummy],\n",
    "        \n",
    "        'Время предсказания':[predict_time_linear, predict_time_ridge, predict_time_lgbm, predict_time_catboost,\n",
    "                              predict_time_dummy],\n",
    "        \n",
    "       'RMSE':[rmse_linear, rmse_ridge, rmse_lgbm, rmse_catboost, rmse_dummy]}\n",
    "\n",
    "table = pd.DataFrame(df)\n",
    "table.index = ['LinearRegression', 'Ridge', 'LGBMRegressor', 'CatBoostRegressor', 'DummyRegressor']\n",
    "pd.set_option('display.float_format', '{:.2f}'.format)\n",
    "display(table)"
   ]
  },
  {
   "cell_type": "code",
   "execution_count": 36,
   "metadata": {},
   "outputs": [
    {
     "data": {
      "text/plain": [
       "3499.0"
      ]
     },
     "execution_count": 36,
     "metadata": {},
     "output_type": "execute_result"
    }
   ],
   "source": [
    "#сравним с медианной ценой автомобиля\n",
    "\n",
    "data['price'].median()"
   ]
  },
  {
   "cell_type": "markdown",
   "metadata": {},
   "source": [
    "*В результате сравнения с константной моделью получили, что любая из наших моделей более предсказуема.*"
   ]
  },
  {
   "cell_type": "markdown",
   "metadata": {},
   "source": [
    "## Вывод"
   ]
  },
  {
   "cell_type": "markdown",
   "metadata": {},
   "source": [
    "Заказчику важны все три параметра: минимальная RMSE, скорость обучения и предсказания. Но достичь минимума сразу по всем параметрам сложно, поэтому нужно выбрать, что важнее. Учитывая медианную цену в 3499 евро, модели линейной LinearRegression и Ridge недостаточно предсказуемы, однако время обучение у модели Ridge самое быстрое. \n",
    "\n",
    "Рассмотрим LGBMRegressor и CatBoostRegressor. Минимум RMSE у LGBMRegressor (1510,64 евро), хотя эта модель обучается даже немного медленнее чем LinearRegression, а предсказывает медленнее всех. У CatBoostRegressor метрика RMSE на 11,6% выше, чем у LGBMRegressor; обучается модель дольше всех остальных моделей, но предсказывает быстрее остальных. \n",
    "\n",
    "Модели LGBMRegressor и CatBoostRegressor отвечают требованию по качеству предсказания, в целом. Дальше решение за заказчиком."
   ]
  },
  {
   "cell_type": "code",
   "execution_count": null,
   "metadata": {},
   "outputs": [],
   "source": []
  }
 ],
 "metadata": {
  "ExecuteTimeLog": [
   {
    "duration": 1578,
    "start_time": "2022-04-12T14:07:58.432Z"
   },
   {
    "duration": 1010,
    "start_time": "2022-04-12T14:08:52.600Z"
   },
   {
    "duration": 235,
    "start_time": "2022-04-12T14:09:18.089Z"
   },
   {
    "duration": 33,
    "start_time": "2022-04-12T14:11:53.156Z"
   },
   {
    "duration": 173,
    "start_time": "2022-04-12T14:13:27.696Z"
   },
   {
    "duration": 537,
    "start_time": "2022-04-12T14:15:05.824Z"
   },
   {
    "duration": 86,
    "start_time": "2022-04-12T14:30:26.392Z"
   },
   {
    "duration": 54,
    "start_time": "2022-04-12T14:30:37.194Z"
   },
   {
    "duration": 31,
    "start_time": "2022-04-12T14:30:40.753Z"
   },
   {
    "duration": 119,
    "start_time": "2022-04-12T14:31:24.416Z"
   },
   {
    "duration": 29,
    "start_time": "2022-04-12T14:31:29.496Z"
   },
   {
    "duration": 118,
    "start_time": "2022-04-12T14:31:53.594Z"
   },
   {
    "duration": 163,
    "start_time": "2022-04-12T14:33:40.827Z"
   },
   {
    "duration": 129,
    "start_time": "2022-04-12T14:34:51.451Z"
   },
   {
    "duration": 158,
    "start_time": "2022-04-12T14:35:46.035Z"
   },
   {
    "duration": 170,
    "start_time": "2022-04-12T14:36:44.804Z"
   },
   {
    "duration": 96,
    "start_time": "2022-04-12T14:36:56.155Z"
   },
   {
    "duration": 179,
    "start_time": "2022-04-12T14:45:50.645Z"
   },
   {
    "duration": 19,
    "start_time": "2022-04-12T14:47:11.717Z"
   },
   {
    "duration": 131,
    "start_time": "2022-04-12T14:47:34.170Z"
   },
   {
    "duration": 299,
    "start_time": "2022-04-12T14:48:25.377Z"
   },
   {
    "duration": 424,
    "start_time": "2022-04-12T14:48:37.054Z"
   },
   {
    "duration": 26,
    "start_time": "2022-04-12T14:52:59.849Z"
   },
   {
    "duration": 17,
    "start_time": "2022-04-12T14:53:23.033Z"
   },
   {
    "duration": 13,
    "start_time": "2022-04-12T14:53:43.063Z"
   },
   {
    "duration": 14,
    "start_time": "2022-04-12T14:54:21.301Z"
   },
   {
    "duration": 12,
    "start_time": "2022-04-12T14:54:57.974Z"
   },
   {
    "duration": 13,
    "start_time": "2022-04-12T14:56:47.486Z"
   },
   {
    "duration": 36,
    "start_time": "2022-04-12T14:56:50.627Z"
   },
   {
    "duration": 12,
    "start_time": "2022-04-12T14:57:03.789Z"
   },
   {
    "duration": 2152,
    "start_time": "2022-04-13T11:47:50.298Z"
   },
   {
    "duration": 936,
    "start_time": "2022-04-13T11:47:53.144Z"
   },
   {
    "duration": 267,
    "start_time": "2022-04-13T11:47:54.086Z"
   },
   {
    "duration": 53,
    "start_time": "2022-04-13T11:47:54.355Z"
   },
   {
    "duration": 219,
    "start_time": "2022-04-13T11:47:54.410Z"
   },
   {
    "duration": 588,
    "start_time": "2022-04-13T11:47:54.630Z"
   },
   {
    "duration": 82,
    "start_time": "2022-04-13T11:47:55.220Z"
   },
   {
    "duration": 33,
    "start_time": "2022-04-13T11:47:55.305Z"
   },
   {
    "duration": 40,
    "start_time": "2022-04-13T11:47:55.340Z"
   },
   {
    "duration": 137,
    "start_time": "2022-04-13T11:47:55.403Z"
   },
   {
    "duration": 196,
    "start_time": "2022-04-13T11:47:56.411Z"
   },
   {
    "duration": 155,
    "start_time": "2022-04-13T11:47:56.609Z"
   },
   {
    "duration": 193,
    "start_time": "2022-04-13T11:47:57.421Z"
   },
   {
    "duration": 198,
    "start_time": "2022-04-13T11:47:57.616Z"
   },
   {
    "duration": 181,
    "start_time": "2022-04-13T11:47:58.574Z"
   },
   {
    "duration": 20,
    "start_time": "2022-04-13T11:47:59.612Z"
   },
   {
    "duration": 159,
    "start_time": "2022-04-13T11:48:00.672Z"
   },
   {
    "duration": 358,
    "start_time": "2022-04-13T11:48:01.512Z"
   },
   {
    "duration": 516,
    "start_time": "2022-04-13T11:48:01.876Z"
   },
   {
    "duration": 30,
    "start_time": "2022-04-13T11:49:20.635Z"
   },
   {
    "duration": 356,
    "start_time": "2022-04-13T11:53:28.454Z"
   },
   {
    "duration": 1535,
    "start_time": "2022-04-13T18:15:21.144Z"
   },
   {
    "duration": 1742,
    "start_time": "2022-04-13T18:15:30.302Z"
   },
   {
    "duration": 238,
    "start_time": "2022-04-13T18:15:32.046Z"
   },
   {
    "duration": 38,
    "start_time": "2022-04-13T18:15:32.285Z"
   },
   {
    "duration": 190,
    "start_time": "2022-04-13T18:15:32.325Z"
   },
   {
    "duration": 531,
    "start_time": "2022-04-13T18:15:32.517Z"
   },
   {
    "duration": 74,
    "start_time": "2022-04-13T18:15:33.050Z"
   },
   {
    "duration": 36,
    "start_time": "2022-04-13T18:15:33.125Z"
   },
   {
    "duration": 47,
    "start_time": "2022-04-13T18:15:33.163Z"
   },
   {
    "duration": 130,
    "start_time": "2022-04-13T18:15:33.212Z"
   },
   {
    "duration": 207,
    "start_time": "2022-04-13T18:15:33.344Z"
   },
   {
    "duration": 150,
    "start_time": "2022-04-13T18:15:33.553Z"
   },
   {
    "duration": 161,
    "start_time": "2022-04-13T18:15:33.847Z"
   },
   {
    "duration": 169,
    "start_time": "2022-04-13T18:15:34.424Z"
   },
   {
    "duration": 148,
    "start_time": "2022-04-13T18:15:35.297Z"
   },
   {
    "duration": 22,
    "start_time": "2022-04-13T18:15:36.145Z"
   },
   {
    "duration": 138,
    "start_time": "2022-04-13T18:15:36.559Z"
   },
   {
    "duration": 295,
    "start_time": "2022-04-13T18:15:36.932Z"
   },
   {
    "duration": 430,
    "start_time": "2022-04-13T18:15:37.389Z"
   },
   {
    "duration": 28,
    "start_time": "2022-04-13T18:15:39.118Z"
   },
   {
    "duration": 330,
    "start_time": "2022-04-13T18:15:39.518Z"
   },
   {
    "duration": 666,
    "start_time": "2022-04-13T18:18:03.719Z"
   },
   {
    "duration": 1010,
    "start_time": "2022-04-13T18:18:15.669Z"
   },
   {
    "duration": 132,
    "start_time": "2022-04-13T18:18:50.284Z"
   },
   {
    "duration": 121,
    "start_time": "2022-04-13T18:23:04.470Z"
   },
   {
    "duration": 23,
    "start_time": "2022-04-13T18:23:08.010Z"
   },
   {
    "duration": 44,
    "start_time": "2022-04-13T18:30:58.397Z"
   },
   {
    "duration": 131,
    "start_time": "2022-04-13T18:31:27.206Z"
   },
   {
    "duration": 5,
    "start_time": "2022-04-13T18:33:00.190Z"
   },
   {
    "duration": 373367,
    "start_time": "2022-04-13T18:45:02.947Z"
   },
   {
    "duration": 264994,
    "start_time": "2022-04-13T18:51:16.317Z"
   },
   {
    "duration": 375811,
    "start_time": "2022-04-13T18:55:41.316Z"
   },
   {
    "duration": 444784,
    "start_time": "2022-04-13T19:01:57.130Z"
   },
   {
    "duration": 7,
    "start_time": "2022-04-13T19:16:28.124Z"
   },
   {
    "duration": 14,
    "start_time": "2022-04-13T19:17:32.948Z"
   },
   {
    "duration": 11,
    "start_time": "2022-04-13T19:20:18.504Z"
   }
  ],
  "kernelspec": {
   "display_name": "Python 3 (ipykernel)",
   "language": "python",
   "name": "python3"
  },
  "language_info": {
   "codemirror_mode": {
    "name": "ipython",
    "version": 3
   },
   "file_extension": ".py",
   "mimetype": "text/x-python",
   "name": "python",
   "nbconvert_exporter": "python",
   "pygments_lexer": "ipython3",
   "version": "3.9.7"
  },
  "toc": {
   "base_numbering": 1,
   "nav_menu": {},
   "number_sections": true,
   "sideBar": true,
   "skip_h1_title": true,
   "title_cell": "Table of Contents",
   "title_sidebar": "Contents",
   "toc_cell": false,
   "toc_position": {},
   "toc_section_display": true,
   "toc_window_display": false
  }
 },
 "nbformat": 4,
 "nbformat_minor": 2
}
