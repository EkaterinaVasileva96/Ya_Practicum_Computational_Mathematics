{
 "cells": [
  {
   "cell_type": "markdown",
   "metadata": {},
   "source": [
    "# Защита персональных данных клиентов"
   ]
  },
  {
   "cell_type": "markdown",
   "metadata": {},
   "source": [
    "Вам нужно защитить данные клиентов страховой компании «Хоть потоп». Разработайте такой метод преобразования данных, чтобы по ним было сложно восстановить персональную информацию. Обоснуйте корректность его работы.\n",
    "\n",
    "Нужно защитить данные, чтобы при преобразовании качество моделей машинного обучения не ухудшилось. Подбирать наилучшую модель не требуется."
   ]
  },
  {
   "cell_type": "markdown",
   "metadata": {},
   "source": [
    "## Загрузка данных"
   ]
  },
  {
   "cell_type": "code",
   "execution_count": 1,
   "metadata": {},
   "outputs": [],
   "source": [
    "import numpy  as np\n",
    "import pandas as pd\n",
    "import matplotlib.pyplot as plt\n",
    "from scipy.spatial import distance\n",
    "from sklearn.metrics import r2_score\n",
    "from sklearn.datasets import make_spd_matrix\n",
    "from sklearn.linear_model import LinearRegression\n",
    "from sklearn.model_selection import train_test_split"
   ]
  },
  {
   "cell_type": "code",
   "execution_count": 2,
   "metadata": {},
   "outputs": [],
   "source": [
    "def data_read(file):\n",
    "    \"\"\"\n",
    "    input:        file [object] - путь к файлу\n",
    "    output:       data [DataFrame] - таблица данных\n",
    "    description:  функция загружает таблицу функцией read_csv, выводит первые 10 строк на экран,\n",
    "                  выводит информацию о данных методом info(), считает количество дубликатов\n",
    "    \"\"\"\n",
    "    # читаем данные из .csv файла с помощью метода read_csv()\n",
    "    data = pd.read_csv(file)\n",
    "    display(data.head(10))\n",
    "    print(data.info())\n",
    "    print('Количество дубликатов:', sum(data.duplicated()))\n",
    "    return data"
   ]
  },
  {
   "cell_type": "code",
   "execution_count": 3,
   "metadata": {
    "scrolled": true
   },
   "outputs": [
    {
     "data": {
      "text/html": [
       "<div>\n",
       "<style scoped>\n",
       "    .dataframe tbody tr th:only-of-type {\n",
       "        vertical-align: middle;\n",
       "    }\n",
       "\n",
       "    .dataframe tbody tr th {\n",
       "        vertical-align: top;\n",
       "    }\n",
       "\n",
       "    .dataframe thead th {\n",
       "        text-align: right;\n",
       "    }\n",
       "</style>\n",
       "<table border=\"1\" class=\"dataframe\">\n",
       "  <thead>\n",
       "    <tr style=\"text-align: right;\">\n",
       "      <th></th>\n",
       "      <th>Пол</th>\n",
       "      <th>Возраст</th>\n",
       "      <th>Зарплата</th>\n",
       "      <th>Члены семьи</th>\n",
       "      <th>Страховые выплаты</th>\n",
       "    </tr>\n",
       "  </thead>\n",
       "  <tbody>\n",
       "    <tr>\n",
       "      <th>0</th>\n",
       "      <td>1</td>\n",
       "      <td>41.0</td>\n",
       "      <td>49600.0</td>\n",
       "      <td>1</td>\n",
       "      <td>0</td>\n",
       "    </tr>\n",
       "    <tr>\n",
       "      <th>1</th>\n",
       "      <td>0</td>\n",
       "      <td>46.0</td>\n",
       "      <td>38000.0</td>\n",
       "      <td>1</td>\n",
       "      <td>1</td>\n",
       "    </tr>\n",
       "    <tr>\n",
       "      <th>2</th>\n",
       "      <td>0</td>\n",
       "      <td>29.0</td>\n",
       "      <td>21000.0</td>\n",
       "      <td>0</td>\n",
       "      <td>0</td>\n",
       "    </tr>\n",
       "    <tr>\n",
       "      <th>3</th>\n",
       "      <td>0</td>\n",
       "      <td>21.0</td>\n",
       "      <td>41700.0</td>\n",
       "      <td>2</td>\n",
       "      <td>0</td>\n",
       "    </tr>\n",
       "    <tr>\n",
       "      <th>4</th>\n",
       "      <td>1</td>\n",
       "      <td>28.0</td>\n",
       "      <td>26100.0</td>\n",
       "      <td>0</td>\n",
       "      <td>0</td>\n",
       "    </tr>\n",
       "    <tr>\n",
       "      <th>5</th>\n",
       "      <td>1</td>\n",
       "      <td>43.0</td>\n",
       "      <td>41000.0</td>\n",
       "      <td>2</td>\n",
       "      <td>1</td>\n",
       "    </tr>\n",
       "    <tr>\n",
       "      <th>6</th>\n",
       "      <td>1</td>\n",
       "      <td>39.0</td>\n",
       "      <td>39700.0</td>\n",
       "      <td>2</td>\n",
       "      <td>0</td>\n",
       "    </tr>\n",
       "    <tr>\n",
       "      <th>7</th>\n",
       "      <td>1</td>\n",
       "      <td>25.0</td>\n",
       "      <td>38600.0</td>\n",
       "      <td>4</td>\n",
       "      <td>0</td>\n",
       "    </tr>\n",
       "    <tr>\n",
       "      <th>8</th>\n",
       "      <td>1</td>\n",
       "      <td>36.0</td>\n",
       "      <td>49700.0</td>\n",
       "      <td>1</td>\n",
       "      <td>0</td>\n",
       "    </tr>\n",
       "    <tr>\n",
       "      <th>9</th>\n",
       "      <td>1</td>\n",
       "      <td>32.0</td>\n",
       "      <td>51700.0</td>\n",
       "      <td>1</td>\n",
       "      <td>0</td>\n",
       "    </tr>\n",
       "  </tbody>\n",
       "</table>\n",
       "</div>"
      ],
      "text/plain": [
       "   Пол  Возраст  Зарплата  Члены семьи  Страховые выплаты\n",
       "0    1     41.0   49600.0            1                  0\n",
       "1    0     46.0   38000.0            1                  1\n",
       "2    0     29.0   21000.0            0                  0\n",
       "3    0     21.0   41700.0            2                  0\n",
       "4    1     28.0   26100.0            0                  0\n",
       "5    1     43.0   41000.0            2                  1\n",
       "6    1     39.0   39700.0            2                  0\n",
       "7    1     25.0   38600.0            4                  0\n",
       "8    1     36.0   49700.0            1                  0\n",
       "9    1     32.0   51700.0            1                  0"
      ]
     },
     "metadata": {},
     "output_type": "display_data"
    },
    {
     "name": "stdout",
     "output_type": "stream",
     "text": [
      "<class 'pandas.core.frame.DataFrame'>\n",
      "RangeIndex: 5000 entries, 0 to 4999\n",
      "Data columns (total 5 columns):\n",
      " #   Column             Non-Null Count  Dtype  \n",
      "---  ------             --------------  -----  \n",
      " 0   Пол                5000 non-null   int64  \n",
      " 1   Возраст            5000 non-null   float64\n",
      " 2   Зарплата           5000 non-null   float64\n",
      " 3   Члены семьи        5000 non-null   int64  \n",
      " 4   Страховые выплаты  5000 non-null   int64  \n",
      "dtypes: float64(2), int64(3)\n",
      "memory usage: 195.4 KB\n",
      "None\n",
      "Количество дубликатов: 153\n"
     ]
    }
   ],
   "source": [
    "data = data_read('/datasets/insurance.csv')\n"
   ]
  },
  {
   "cell_type": "markdown",
   "metadata": {},
   "source": [
    "- Данные разделены на 4 признака (пол, возраст, зарплата и члены семьи) и целевой признак (страховые выплаты)\n",
    "- Пропуски отсутствуют\n",
    "- Все признаки - количественные \n",
    "- В данных присутствуют дубликаты, их стоит удалить \n",
    "- Так же стоит переименовать столбцы для соблюдения аккуратности кода\n"
   ]
  },
  {
   "cell_type": "code",
   "execution_count": 4,
   "metadata": {},
   "outputs": [
    {
     "data": {
      "text/html": [
       "<div>\n",
       "<style scoped>\n",
       "    .dataframe tbody tr th:only-of-type {\n",
       "        vertical-align: middle;\n",
       "    }\n",
       "\n",
       "    .dataframe tbody tr th {\n",
       "        vertical-align: top;\n",
       "    }\n",
       "\n",
       "    .dataframe thead th {\n",
       "        text-align: right;\n",
       "    }\n",
       "</style>\n",
       "<table border=\"1\" class=\"dataframe\">\n",
       "  <thead>\n",
       "    <tr style=\"text-align: right;\">\n",
       "      <th></th>\n",
       "      <th>sex</th>\n",
       "      <th>age</th>\n",
       "      <th>salary</th>\n",
       "      <th>family_members</th>\n",
       "      <th>insurance_benefits</th>\n",
       "    </tr>\n",
       "  </thead>\n",
       "  <tbody>\n",
       "    <tr>\n",
       "      <th>2711</th>\n",
       "      <td>0</td>\n",
       "      <td>38.0</td>\n",
       "      <td>34100.0</td>\n",
       "      <td>1</td>\n",
       "      <td>0</td>\n",
       "    </tr>\n",
       "  </tbody>\n",
       "</table>\n",
       "</div>"
      ],
      "text/plain": [
       "      sex   age   salary  family_members  insurance_benefits\n",
       "2711    0  38.0  34100.0               1                   0"
      ]
     },
     "execution_count": 4,
     "metadata": {},
     "output_type": "execute_result"
    }
   ],
   "source": [
    "#удалим дубликаты\n",
    "data.drop_duplicates(inplace=True)\n",
    "data.reset_index(inplace=True, drop=True)\n",
    "\n",
    "#переименуем столбцы\n",
    "data.rename(columns={'Пол': 'sex', 'Возраст': 'age', 'Зарплата': 'salary', 'Члены семьи': 'family_members', \n",
    "                     'Страховые выплаты': 'insurance_benefits'}, inplace=True)\n",
    "data.sample()"
   ]
  },
  {
   "cell_type": "code",
   "execution_count": 5,
   "metadata": {},
   "outputs": [
    {
     "name": "stdout",
     "output_type": "stream",
     "text": [
      "<class 'pandas.core.frame.DataFrame'>\n",
      "RangeIndex: 4847 entries, 0 to 4846\n",
      "Data columns (total 5 columns):\n",
      " #   Column              Non-Null Count  Dtype  \n",
      "---  ------              --------------  -----  \n",
      " 0   sex                 4847 non-null   int64  \n",
      " 1   age                 4847 non-null   float64\n",
      " 2   salary              4847 non-null   float64\n",
      " 3   family_members      4847 non-null   int64  \n",
      " 4   insurance_benefits  4847 non-null   int64  \n",
      "dtypes: float64(2), int64(3)\n",
      "memory usage: 189.5 KB\n"
     ]
    }
   ],
   "source": [
    "data.info()"
   ]
  },
  {
   "cell_type": "markdown",
   "metadata": {},
   "source": [
    "## Умножение матриц"
   ]
  },
  {
   "cell_type": "markdown",
   "metadata": {},
   "source": [
    "В этом задании вы можете записывать формулы в *Jupyter Notebook.*\n",
    "\n",
    "Чтобы записать формулу внутри текста, окружите её символами доллара \\\\$; если снаружи —  двойными символами \\\\$\\\\$. Эти формулы записываются на языке вёрстки *LaTeX.* \n",
    "\n",
    "Для примера мы записали формулы линейной регрессии. Можете их скопировать и отредактировать, чтобы решить задачу.\n",
    "\n",
    "Работать в *LaTeX* необязательно."
   ]
  },
  {
   "cell_type": "markdown",
   "metadata": {},
   "source": [
    "Обозначения:\n",
    "\n",
    "- $X$ — матрица признаков (нулевой столбец состоит из единиц)\n",
    "\n",
    "- $y$ — вектор целевого признака\n",
    "\n",
    "- $P$ — матрица, на которую умножаются признаки\n",
    "\n",
    "- $w$ — вектор весов линейной регрессии (нулевой элемент равен сдвигу)"
   ]
  },
  {
   "cell_type": "markdown",
   "metadata": {},
   "source": [
    "Предсказания:\n",
    "\n",
    "$$\n",
    "a = Xw\n",
    "$$\n",
    "\n",
    "Задача обучения:\n",
    "\n",
    "$$\n",
    "w = \\arg\\min_w MSE(Xw, y)\n",
    "$$\n",
    "\n",
    "Формула обучения:\n",
    "\n",
    "$$\n",
    "w = (X^T X)^{-1} X^T y\n",
    "$$"
   ]
  },
  {
   "cell_type": "markdown",
   "metadata": {},
   "source": [
    "**Ответ:** Качество модели не изменится\n"
   ]
  },
  {
   "cell_type": "markdown",
   "metadata": {},
   "source": [
    "**Обоснование:** \n",
    "\n",
    "Новая матрица признаков:\n",
    "\n",
    "$$\n",
    "X' = XP\n",
    "$$\n",
    "\n",
    "Новый вектор весов $w'$ можем расчитать следующим образом:\n",
    "\n",
    "$$\n",
    "w' = ((XP)^T XP)^{-1} (XP)^T y == (P^T X^T XP)^{-1}P^T X^T y == P^{-1}(X^T X)^{-1} (P^T)^{-1} P^T X^T y == P^{-1} w\n",
    "$$\n",
    "\n",
    "Внутри формулы можно выделить формулу расчета $w$\n",
    "\n",
    "$$\n",
    "(P^T)^{-1} P^T = E =1\n",
    "$$\n",
    "\n",
    "таким образом:\n",
    "\n",
    "$$\n",
    "a' = X'w' = XPP^{-1} w = XEw = Xw = a\n",
    "$$\n",
    "\n",
    "\n",
    "Можно отметить, что, если любую матрицу Р умножить на единичную (или наоборот), получится эта же матрица Р. Т.е., матрицы будут одинаковыми, а качество линейной регрессии не изменится.\n",
    "\n"
   ]
  },
  {
   "cell_type": "markdown",
   "metadata": {},
   "source": [
    "**Вывод:**\n",
    "\n",
    "Предсказания модели не изменилист, а значит и качество остается тем же."
   ]
  },
  {
   "cell_type": "markdown",
   "metadata": {},
   "source": [
    "## Алгоритм преобразования"
   ]
  },
  {
   "cell_type": "markdown",
   "metadata": {},
   "source": [
    "**Алгоритм**\n",
    "\n",
    "1) методом make_spd_matrix создаем случайную матрицу A\n",
    "\n",
    "2) методом np.linalg.inv() проверяем матрицу А на обратимость и получаем $A^{-1}$. Если матрица А провалила тест на обратимость, необходимо создать новую случайную матрицу.\n",
    "\n",
    "Поскольку нам надо закодировать данные клиентов, матрица А будет ключом кодирования.\n",
    "\n",
    "3) умножаем матрицу признаков X на полученную матрицу А и получаем матрицу B с закодированными данными о клиентах:\n",
    "\n",
    "$$\n",
    "B = X@A\n",
    "$$\n",
    "\n",
    "После этого можно переходить к обучению модели линейной регрессии."
   ]
  },
  {
   "cell_type": "markdown",
   "metadata": {},
   "source": [
    "**Обоснование**\n",
    "\n",
    "Такой алгоритм позволит защитить персональную информацию клиентов и при этом не должен повлиять на работу модели (ранее уже отмечалось, что качество модели не изменится, если матрицу признаков умножать на обратимую модель)."
   ]
  },
  {
   "cell_type": "markdown",
   "metadata": {},
   "source": [
    "## Проверка алгоритма"
   ]
  },
  {
   "cell_type": "markdown",
   "metadata": {},
   "source": [
    "### Преобразование данных"
   ]
  },
  {
   "cell_type": "code",
   "execution_count": 6,
   "metadata": {},
   "outputs": [
    {
     "name": "stdout",
     "output_type": "stream",
     "text": [
      "Признаки (4847, 4)\n",
      "Целевой признак (4847,)\n"
     ]
    }
   ],
   "source": [
    "features = data.drop('insurance_benefits', axis=1)\n",
    "target = data['insurance_benefits']\n",
    "\n",
    "print('Признаки', features.shape)\n",
    "print('Целевой признак', target.shape)"
   ]
  },
  {
   "cell_type": "code",
   "execution_count": 7,
   "metadata": {},
   "outputs": [
    {
     "data": {
      "text/plain": [
       "array([[ 2.97675307,  0.09601407, -0.43363796,  1.63149048],\n",
       "       [ 0.09601407,  1.02415391, -1.2595126 ,  0.57122764],\n",
       "       [-0.43363796, -1.2595126 ,  2.39108163, -0.46226306],\n",
       "       [ 1.63149048,  0.57122764, -0.46226306,  4.18355526]])"
      ]
     },
     "execution_count": 7,
     "metadata": {},
     "output_type": "execute_result"
    }
   ],
   "source": [
    "#создаем матрицу признаков\n",
    "\n",
    "features_matrix = features.values\n",
    "features_matrix\n",
    "\n",
    "#создаем случайную матрицу.\n",
    "\n",
    "random_matrix = make_spd_matrix(n_dim=4, random_state=123)\n",
    "random_matrix\n",
    "\n",
    "#проверяем на обратимость\n",
    "\n",
    "np.linalg.inv(random_matrix)"
   ]
  },
  {
   "cell_type": "markdown",
   "metadata": {},
   "source": [
    "Матрица обратима, так как не возникло ошибки "
   ]
  },
  {
   "cell_type": "code",
   "execution_count": 8,
   "metadata": {},
   "outputs": [
    {
     "data": {
      "text/plain": [
       "numpy.ndarray"
      ]
     },
     "execution_count": 8,
     "metadata": {},
     "output_type": "execute_result"
    }
   ],
   "source": [
    "#умножим матрицу признаков features_matrix на матрицу random_matrix. Результат сохраним в переменной encoded_matrix.\n",
    "\n",
    "encoded_matrix = features_matrix @ random_matrix\n",
    "encoded_matrix\n",
    "\n",
    "type(encoded_matrix)"
   ]
  },
  {
   "cell_type": "markdown",
   "metadata": {},
   "source": [
    "###  Обучение модели"
   ]
  },
  {
   "cell_type": "markdown",
   "metadata": {},
   "source": [
    "*Исходные данные*\n",
    "\n",
    "Обучим модель линейной регрессии на исходных данных."
   ]
  },
  {
   "cell_type": "code",
   "execution_count": 12,
   "metadata": {},
   "outputs": [
    {
     "name": "stdout",
     "output_type": "stream",
     "text": [
      "features_train: (3635, 4)\n",
      "target_train: (3635,)\n",
      "features_valid: (1212, 4)\n",
      "target_valid: (1212,)\n"
     ]
    }
   ],
   "source": [
    "#Разделим данные на обучающую и валидационные выборки\n",
    "features_train, features_valid, target_train, target_valid = train_test_split(features, \n",
    "                                                                              target, \n",
    "                                                                              train_size=0.75, \n",
    "                                                                              test_size=0.25, \n",
    "                                                                              random_state=123)\n",
    "\n",
    "#Выведем на экран размер выборок.\n",
    "\n",
    "print('features_train:', features_train.shape) \n",
    "print('target_train:', target_train.shape)\n",
    "\n",
    "print('features_valid:', features_valid.shape)\n",
    "print('target_valid:', target_valid.shape)"
   ]
  },
  {
   "cell_type": "code",
   "execution_count": 17,
   "metadata": {},
   "outputs": [
    {
     "name": "stdout",
     "output_type": "stream",
     "text": [
      "0.40978958053663006\n"
     ]
    }
   ],
   "source": [
    "#Обучим модель и посчитаем метрику R2.\n",
    "\n",
    "model = LinearRegression()\n",
    "model.fit(features_train, target_train)\n",
    "predictions = model.predict(features_valid)\n",
    "r2 = r2_score(target_valid, predictions)\n",
    "\n",
    "print(r2)"
   ]
  },
  {
   "cell_type": "markdown",
   "metadata": {},
   "source": [
    "Метрика не больше 1 и не меньше 0, значит модель обучена правильно. "
   ]
  },
  {
   "cell_type": "markdown",
   "metadata": {},
   "source": [
    "*Преобразованные данные*\n",
    "\n",
    "Проверим метрика R2 на преобразованных данных."
   ]
  },
  {
   "cell_type": "code",
   "execution_count": 18,
   "metadata": {},
   "outputs": [
    {
     "name": "stdout",
     "output_type": "stream",
     "text": [
      "features_train_1: (3635, 4)\n",
      "target_train_1: (3635,)\n",
      "features_valid_1: (1212, 4)\n",
      "target_valid_1: (1212,)\n"
     ]
    }
   ],
   "source": [
    "#Разделим данные на обучающую и валидационные выборки\n",
    "features_train_1, features_valid_1, target_train_1, target_valid_1 = train_test_split(encoded_matrix, \n",
    "                                                                                      target, \n",
    "                                                                                      train_size=0.75, \n",
    "                                                                                      test_size=0.25, \n",
    "                                                                                      random_state=123)\n",
    "\n",
    "#Выведем на экран размер выборок.\n",
    "print('features_train_1:', features_train_1.shape) \n",
    "print('target_train_1:', target_train_1.shape)\n",
    "print('features_valid_1:', features_valid_1.shape)\n",
    "print('target_valid_1:', target_valid_1.shape)"
   ]
  },
  {
   "cell_type": "code",
   "execution_count": 19,
   "metadata": {},
   "outputs": [
    {
     "name": "stdout",
     "output_type": "stream",
     "text": [
      "0.40978958053663006\n"
     ]
    }
   ],
   "source": [
    "#Обучим модель и посчитаем метрику R2.\n",
    "\n",
    "model_1 = LinearRegression()\n",
    "model_1.fit(features_train_1, target_train_1)\n",
    "predictions_1 = model_1.predict(features_valid_1)\n",
    "r2_1 = r2_score(target_valid_1, predictions_1)\n",
    "\n",
    "print(r2)"
   ]
  },
  {
   "cell_type": "markdown",
   "metadata": {},
   "source": [
    "***Вывод***\n",
    "\n",
    "Метрики идентичны, а это значит, что качество модели линейной регрессии после преобразования данных не изменилось. Но стотит отметить, что сам показатель метрики R2 достаточно низкий, значит, качество модели можно значительно улучшить, например, меняя гиперпараметры."
   ]
  }
 ],
 "metadata": {
  "ExecuteTimeLog": [
   {
    "duration": 374,
    "start_time": "2022-03-29T18:54:39.068Z"
   },
   {
    "duration": 19,
    "start_time": "2022-03-29T18:58:22.973Z"
   },
   {
    "duration": 4,
    "start_time": "2022-03-29T19:02:18.378Z"
   },
   {
    "duration": 76,
    "start_time": "2022-03-29T19:02:53.985Z"
   },
   {
    "duration": 4,
    "start_time": "2022-03-29T19:03:05.351Z"
   },
   {
    "duration": 36,
    "start_time": "2022-03-29T19:03:06.546Z"
   },
   {
    "duration": 1172,
    "start_time": "2022-03-29T19:10:06.910Z"
   },
   {
    "duration": 5,
    "start_time": "2022-03-29T19:10:34.588Z"
   },
   {
    "duration": 40,
    "start_time": "2022-03-29T19:10:35.287Z"
   },
   {
    "duration": 50,
    "start_time": "2022-03-29T19:33:38.337Z"
   },
   {
    "duration": 33,
    "start_time": "2022-03-29T19:34:03.612Z"
   },
   {
    "duration": 14,
    "start_time": "2022-03-29T19:34:06.637Z"
   },
   {
    "duration": 4,
    "start_time": "2022-03-29T19:34:34.379Z"
   },
   {
    "duration": 41,
    "start_time": "2022-03-29T19:34:39.294Z"
   },
   {
    "duration": 21,
    "start_time": "2022-03-29T19:34:46.980Z"
   },
   {
    "duration": 10,
    "start_time": "2022-03-29T19:38:00.889Z"
   },
   {
    "duration": 35,
    "start_time": "2022-03-29T19:38:33.109Z"
   },
   {
    "duration": 17,
    "start_time": "2022-03-29T19:39:15.227Z"
   },
   {
    "duration": 14,
    "start_time": "2022-03-29T19:39:36.290Z"
   },
   {
    "duration": 1951,
    "start_time": "2022-03-29T19:40:38.499Z"
   },
   {
    "duration": 1902,
    "start_time": "2022-03-29T19:41:24.471Z"
   },
   {
    "duration": 1859,
    "start_time": "2022-03-29T19:41:44.809Z"
   },
   {
    "duration": 1648,
    "start_time": "2022-03-30T18:55:45.755Z"
   },
   {
    "duration": 4,
    "start_time": "2022-03-30T18:55:48.891Z"
   },
   {
    "duration": 55,
    "start_time": "2022-03-30T18:55:50.788Z"
   },
   {
    "duration": 13,
    "start_time": "2022-03-30T18:55:54.849Z"
   },
   {
    "duration": 3003,
    "start_time": "2022-03-30T18:55:57.925Z"
   },
   {
    "duration": 11,
    "start_time": "2022-03-30T18:56:35.300Z"
   },
   {
    "duration": 2686,
    "start_time": "2022-03-30T18:57:25.296Z"
   },
   {
    "duration": 11,
    "start_time": "2022-03-30T18:57:30.940Z"
   },
   {
    "duration": 13,
    "start_time": "2022-03-30T18:58:21.980Z"
   },
   {
    "duration": 11,
    "start_time": "2022-03-30T18:58:22.894Z"
   },
   {
    "duration": 5,
    "start_time": "2022-03-30T19:54:49.167Z"
   },
   {
    "duration": 10,
    "start_time": "2022-03-30T19:56:49.575Z"
   },
   {
    "duration": 60,
    "start_time": "2022-03-30T19:57:40.800Z"
   },
   {
    "duration": 11,
    "start_time": "2022-03-30T19:57:46.277Z"
   },
   {
    "duration": 5,
    "start_time": "2022-03-30T19:59:23.786Z"
   },
   {
    "duration": 1610,
    "start_time": "2022-03-31T19:12:57.559Z"
   },
   {
    "duration": 4,
    "start_time": "2022-03-31T19:12:59.872Z"
   },
   {
    "duration": 36,
    "start_time": "2022-03-31T19:13:00.896Z"
   },
   {
    "duration": 12,
    "start_time": "2022-03-31T19:13:15.051Z"
   },
   {
    "duration": 10,
    "start_time": "2022-03-31T19:13:16.107Z"
   },
   {
    "duration": 5,
    "start_time": "2022-03-31T19:13:24.856Z"
   },
   {
    "duration": 7,
    "start_time": "2022-03-31T19:13:25.677Z"
   },
   {
    "duration": 5,
    "start_time": "2022-03-31T19:13:28.774Z"
   },
   {
    "duration": 6,
    "start_time": "2022-03-31T19:14:08.411Z"
   },
   {
    "duration": 6,
    "start_time": "2022-03-31T19:15:54.444Z"
   },
   {
    "duration": 8,
    "start_time": "2022-03-31T19:16:26.223Z"
   },
   {
    "duration": 7,
    "start_time": "2022-03-31T19:16:33.738Z"
   },
   {
    "duration": 9,
    "start_time": "2022-03-31T19:17:02.085Z"
   },
   {
    "duration": 8,
    "start_time": "2022-03-31T19:17:37.616Z"
   },
   {
    "duration": 8,
    "start_time": "2022-03-31T19:18:19.463Z"
   },
   {
    "duration": 6,
    "start_time": "2022-03-31T19:25:49.732Z"
   },
   {
    "duration": 9,
    "start_time": "2022-03-31T19:26:51.265Z"
   },
   {
    "duration": 6,
    "start_time": "2022-03-31T19:26:59.306Z"
   },
   {
    "duration": 6,
    "start_time": "2022-03-31T19:27:04.134Z"
   }
  ],
  "kernelspec": {
   "display_name": "Python 3 (ipykernel)",
   "language": "python",
   "name": "python3"
  },
  "language_info": {
   "codemirror_mode": {
    "name": "ipython",
    "version": 3
   },
   "file_extension": ".py",
   "mimetype": "text/x-python",
   "name": "python",
   "nbconvert_exporter": "python",
   "pygments_lexer": "ipython3",
   "version": "3.9.7"
  },
  "toc": {
   "base_numbering": 1,
   "nav_menu": {},
   "number_sections": true,
   "sideBar": true,
   "skip_h1_title": true,
   "title_cell": "Содержание",
   "title_sidebar": "Contents",
   "toc_cell": true,
   "toc_position": {},
   "toc_section_display": true,
   "toc_window_display": true
  }
 },
 "nbformat": 4,
 "nbformat_minor": 2
}
